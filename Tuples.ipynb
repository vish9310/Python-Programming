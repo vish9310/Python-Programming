{
 "cells": [
  {
   "cell_type": "markdown",
   "metadata": {},
   "source": [
    "# Tuples"
   ]
  },
  {
   "cell_type": "markdown",
   "metadata": {},
   "source": [
    "# Demonstration of simple topics"
   ]
  },
  {
   "cell_type": "code",
   "execution_count": 6,
   "metadata": {},
   "outputs": [
    {
     "name": "stdout",
     "output_type": "stream",
     "text": [
      "<class 'tuple'>\n"
     ]
    }
   ],
   "source": [
    "t=()\n",
    "print(type(t))"
   ]
  },
  {
   "cell_type": "code",
   "execution_count": 4,
   "metadata": {},
   "outputs": [
    {
     "name": "stdout",
     "output_type": "stream",
     "text": [
      "<class 'tuple'>\n"
     ]
    }
   ],
   "source": [
    "t1=tuple()\n",
    "print(type(t1))"
   ]
  },
  {
   "cell_type": "code",
   "execution_count": 8,
   "metadata": {},
   "outputs": [
    {
     "name": "stdout",
     "output_type": "stream",
     "text": [
      "(12, 35, -4, 'hello', 0, 3.5)\n"
     ]
    }
   ],
   "source": [
    "t=(12,35,-4,'hello',0,3.5)\n",
    "print(t)"
   ]
  },
  {
   "cell_type": "code",
   "execution_count": 17,
   "metadata": {},
   "outputs": [
    {
     "name": "stdout",
     "output_type": "stream",
     "text": [
      "<class 'int'>\n"
     ]
    }
   ],
   "source": [
    "#Create tuple with single element?\n",
    "t=(3)\n",
    "print(type(t))"
   ]
  },
  {
   "cell_type": "code",
   "execution_count": 16,
   "metadata": {},
   "outputs": [
    {
     "name": "stdout",
     "output_type": "stream",
     "text": [
      "<class 'tuple'>\n"
     ]
    }
   ],
   "source": [
    "t=(3,)\n",
    "print(type(t1))"
   ]
  },
  {
   "cell_type": "code",
   "execution_count": 19,
   "metadata": {},
   "outputs": [
    {
     "name": "stdout",
     "output_type": "stream",
     "text": [
      "<class 'tuple'>\n",
      "(1, 2, 3, 5, 9)\n"
     ]
    }
   ],
   "source": [
    "t=1,2,3,5,9\n",
    "print(type(t))\n",
    "print(t)"
   ]
  },
  {
   "cell_type": "code",
   "execution_count": 22,
   "metadata": {},
   "outputs": [
    {
     "name": "stdout",
     "output_type": "stream",
     "text": [
      "('h', 'e', 'l', 'l', 'o')\n"
     ]
    }
   ],
   "source": [
    "t=tuple('hello')      #creating tuple using string!!\n",
    "print(t)"
   ]
  },
  {
   "cell_type": "code",
   "execution_count": 26,
   "metadata": {},
   "outputs": [
    {
     "name": "stdout",
     "output_type": "stream",
     "text": [
      "[12, 3, -5, 'hello', [5, 9], 88]\n"
     ]
    }
   ],
   "source": [
    "ls=[12,3,-5,'hello',[5,9],88]    #creating tuple using list!!!!\n",
    "print(ls)"
   ]
  },
  {
   "cell_type": "code",
   "execution_count": 28,
   "metadata": {},
   "outputs": [
    {
     "name": "stdout",
     "output_type": "stream",
     "text": [
      "t1 is (23, 34, 45, 67, 89)\n",
      "ID is:  2926651439944\n",
      "t2 is (23, 34, 45, 67, 89)\n",
      "ID is:  2926651439944\n"
     ]
    }
   ],
   "source": [
    "#creating a tuple from another tuple?\n",
    "t1=23,34,45,67,89\n",
    "print('t1 is', t1)\n",
    "print('ID is: ' , id(t1))\n",
    "t2=tuple(t1)\n",
    "print('t2 is', t2)\n",
    "print('ID is: ' , id(t2))\n"
   ]
  },
  {
   "cell_type": "code",
   "execution_count": 33,
   "metadata": {},
   "outputs": [
    {
     "name": "stdout",
     "output_type": "stream",
     "text": [
      "Banana\n",
      "('Banana', 'Apple')\n",
      "('Mango', 'Banana')\n",
      "('Apple', 'Banana', 'Mango')\n"
     ]
    }
   ],
   "source": [
    "#Indexing and slicing on tuples???\n",
    "\n",
    "\n",
    "t='Mango' , 'Banana' , 'Apple'\n",
    "print(t[1])\n",
    "print(t[1:])\n",
    "print(t[:-1])\n",
    "print(t[::-1])"
   ]
  },
  {
   "cell_type": "code",
   "execution_count": 37,
   "metadata": {},
   "outputs": [
    {
     "name": "stdout",
     "output_type": "stream",
     "text": [
      "('papaya', 'Banana', 'Apple')\n"
     ]
    }
   ],
   "source": [
    "#As tuples are immutable , one cannot alter its content\n",
    "#Instead,we can slice and create new tuple\n",
    "\n",
    "t=('Mango' , 'Banana' , 'Apple')\n",
    "#t[0]='Papaya'      Error!!!\n",
    "\n",
    "t=('papaya',) + t[1:]\n",
    "print(t)"
   ]
  },
  {
   "cell_type": "code",
   "execution_count": 39,
   "metadata": {},
   "outputs": [
    {
     "name": "stdout",
     "output_type": "stream",
     "text": [
      "3\n",
      "4\n"
     ]
    }
   ],
   "source": [
    "#Assigning list to tuples\n",
    "ls=[3,4]\n",
    "x,y=ls\n",
    "print(x)\n",
    "print(y)\n"
   ]
  },
  {
   "cell_type": "code",
   "execution_count": 41,
   "metadata": {},
   "outputs": [
    {
     "name": "stdout",
     "output_type": "stream",
     "text": [
      "10\n",
      "20\n"
     ]
    }
   ],
   "source": [
    "x,y=10,20\n",
    "print(x)\n",
    "print(y)"
   ]
  },
  {
   "cell_type": "code",
   "execution_count": 44,
   "metadata": {},
   "outputs": [
    {
     "name": "stdout",
     "output_type": "stream",
     "text": [
      "20 10\n"
     ]
    }
   ],
   "source": [
    "#swaping of two numbers???\n",
    "a=10\n",
    "b=20\n",
    "a,b=b,a\n",
    "print(a,b)"
   ]
  },
  {
   "cell_type": "code",
   "execution_count": 46,
   "metadata": {},
   "outputs": [
    {
     "ename": "ValueError",
     "evalue": "not enough values to unpack (expected 3, got 2)",
     "output_type": "error",
     "traceback": [
      "\u001b[1;31m---------------------------------------------------------------------------\u001b[0m",
      "\u001b[1;31mValueError\u001b[0m                                Traceback (most recent call last)",
      "\u001b[1;32m<ipython-input-46-57945ab38d20>\u001b[0m in \u001b[0;36m<module>\u001b[1;34m\u001b[0m\n\u001b[0;32m      1\u001b[0m \u001b[1;31m#excess value assignment\u001b[0m\u001b[1;33m\u001b[0m\u001b[1;33m\u001b[0m\u001b[1;33m\u001b[0m\u001b[0m\n\u001b[1;32m----> 2\u001b[1;33m \u001b[0mx\u001b[0m\u001b[1;33m,\u001b[0m\u001b[0my\u001b[0m\u001b[1;33m,\u001b[0m\u001b[0mz\u001b[0m\u001b[1;33m=\u001b[0m\u001b[1;36m10\u001b[0m\u001b[1;33m,\u001b[0m\u001b[1;36m20\u001b[0m\u001b[1;33m\u001b[0m\u001b[1;33m\u001b[0m\u001b[0m\n\u001b[0m",
      "\u001b[1;31mValueError\u001b[0m: not enough values to unpack (expected 3, got 2)"
     ]
    }
   ],
   "source": [
    "#excess value assignment\n",
    "x,y,z=10,20"
   ]
  },
  {
   "cell_type": "code",
   "execution_count": 48,
   "metadata": {},
   "outputs": [
    {
     "name": "stdout",
     "output_type": "stream",
     "text": [
      "User name is: vishal.9310\n",
      "Domain name is: gmail.com\n"
     ]
    }
   ],
   "source": [
    "#Getting User Name and Domain Name from Email ID??\n",
    "email='vishal.9310@gmail.com'\n",
    "userName, domainName=email.split('@')\n",
    "print('User name is:' , userName)\n",
    "print('Domain name is:' , domainName)"
   ]
  },
  {
   "cell_type": "markdown",
   "metadata": {},
   "source": [
    "# Dictionaries and Tuples"
   ]
  },
  {
   "cell_type": "code",
   "execution_count": 50,
   "metadata": {},
   "outputs": [
    {
     "name": "stdout",
     "output_type": "stream",
     "text": [
      "[('a', 10), ('b', 20), ('c', 30)]\n"
     ]
    }
   ],
   "source": [
    "d={'a':10, 'b':20, 'c':30}\n",
    "t=list(d.items())\n",
    "print(t)"
   ]
  },
  {
   "cell_type": "code",
   "execution_count": 52,
   "metadata": {},
   "outputs": [
    {
     "name": "stdout",
     "output_type": "stream",
     "text": [
      "Original list:\n",
      " [('Tom', 3491), ('Jerry', 81350), ('Donald', 2102), ('MIckey', 9012)]\n",
      "Sorted list:\n",
      " [('Donald', 2102), ('Jerry', 81350), ('MIckey', 9012), ('Tom', 3491)]\n"
     ]
    }
   ],
   "source": [
    "d={'Tom': 3491, 'Jerry':81350, 'Donald':2102, 'MIckey':9012}\n",
    "ls=list(d.items())\n",
    "print('Original list:\\n' ,ls)\n",
    "ls.sort()\n",
    "print('Sorted list:\\n' ,ls)\n"
   ]
  },
  {
   "cell_type": "code",
   "execution_count": 62,
   "metadata": {},
   "outputs": [
    {
     "name": "stdout",
     "output_type": "stream",
     "text": [
      "Enter a sentences\n",
      "['s']\n"
     ]
    }
   ],
   "source": [
    "#Write a program to sort wordds of a given sentence from longest to smallest?\n",
    "s=input('Enter a sentence')\n",
    "ls=s.split(' ')\n",
    "ls.sort(key=len)\n",
    "print(ls)"
   ]
  },
  {
   "cell_type": "code",
   "execution_count": 70,
   "metadata": {},
   "outputs": [
    {
     "name": "stdout",
     "output_type": "stream",
     "text": [
      "The list is : [(3, 'ram'), (3, 'and'), (5, 'seeta'), (4, 'went'), (2, 'to'), (6, 'forest'), (4, 'with'), (5, 'lucky')]\n",
      "the sorted list: ['forest', 'seeta', 'lucky', 'with', 'went', 'ram', 'and', 'to']\n"
     ]
    }
   ],
   "source": [
    "#anaother way of doing longest to smallest words!!!!!!\n",
    "txt='ram and seeta went to forest with lucky'\n",
    "words = txt.split()\n",
    "t = list()\n",
    "for word in words:\n",
    "    t.append((len(word) , word))\n",
    "    \n",
    "print('The list is :' ,t)\n",
    "t.sort(reverse=True)\n",
    "res = list()\n",
    "for lenght,word in t:\n",
    "    res.append(word)\n",
    "print('the sorted list:',res)\n"
   ]
  },
  {
   "cell_type": "code",
   "execution_count": 6,
   "metadata": {},
   "outputs": [
    {
     "name": "stdout",
     "output_type": "stream",
     "text": [
      "enter a file namevishal.txt\n",
      "File exists vishal.txt\n",
      "Number of line= 217\n",
      "Number of word= 792\n",
      "Number of characters= 8353\n"
     ]
    },
    {
     "ename": "NameError",
     "evalue": "name 'fread' is not defined",
     "output_type": "error",
     "traceback": [
      "\u001b[1;31m---------------------------------------------------------------------------\u001b[0m",
      "\u001b[1;31mNameError\u001b[0m                                 Traceback (most recent call last)",
      "\u001b[1;32m<ipython-input-6-a451d3aac58b>\u001b[0m in \u001b[0;36m<module>\u001b[1;34m\u001b[0m\n\u001b[0;32m     19\u001b[0m \u001b[0mprint\u001b[0m\u001b[1;33m(\u001b[0m\u001b[1;34m'Number of characters='\u001b[0m\u001b[1;33m,\u001b[0m\u001b[0mcharcount\u001b[0m\u001b[1;33m)\u001b[0m\u001b[1;33m\u001b[0m\u001b[1;33m\u001b[0m\u001b[0m\n\u001b[0;32m     20\u001b[0m \u001b[1;33m\u001b[0m\u001b[0m\n\u001b[1;32m---> 21\u001b[1;33m \u001b[0mfname\u001b[0m\u001b[1;33m=\u001b[0m\u001b[0mfread\u001b[0m\u001b[1;33m(\u001b[0m\u001b[0mvishal\u001b[0m\u001b[1;33m.\u001b[0m\u001b[0mtxt\u001b[0m\u001b[1;33m)\u001b[0m\u001b[1;33m\u001b[0m\u001b[1;33m\u001b[0m\u001b[0m\n\u001b[0m",
      "\u001b[1;31mNameError\u001b[0m: name 'fread' is not defined"
     ]
    }
   ],
   "source": [
    "##find the trending word and remove all string punchuation?\n",
    "import os,sys\n",
    "fname=input('enter a file name')\n",
    "if os.path.isfile(fname):\n",
    "    print('File exists',fname)\n",
    "    f=open(fname)\n",
    "else:\n",
    "    print(\"file not exist\",fname)\n",
    "    sys.exit()\n",
    "linecount=charcount=wordcount=0\n",
    "for line in f:\n",
    "    linecount+=1\n",
    "    charcount+=len(line)\n",
    "    ls=line.split()\n",
    "    wordcount+=len(ls)\n",
    "    \n",
    "print('Number of line=',linecount)\n",
    "print('Number of word=',wordcount)\n",
    "print('Number of characters=',charcount)"
   ]
  }
 ],
 "metadata": {
  "kernelspec": {
   "display_name": "Python 3",
   "language": "python",
   "name": "python3"
  },
  "language_info": {
   "codemirror_mode": {
    "name": "ipython",
    "version": 3
   },
   "file_extension": ".py",
   "mimetype": "text/x-python",
   "name": "python",
   "nbconvert_exporter": "python",
   "pygments_lexer": "ipython3",
   "version": "3.7.1"
  }
 },
 "nbformat": 4,
 "nbformat_minor": 2
}
