{
 "cells": [
  {
   "cell_type": "markdown",
   "metadata": {},
   "source": [
    "# LISTS"
   ]
  },
  {
   "cell_type": "markdown",
   "metadata": {},
   "source": [
    "# Python programming Day 3"
   ]
  },
  {
   "cell_type": "code",
   "execution_count": 2,
   "metadata": {},
   "outputs": [],
   "source": [
    "ls1=[]    #empty list"
   ]
  },
  {
   "cell_type": "code",
   "execution_count": 4,
   "metadata": {},
   "outputs": [
    {
     "data": {
      "text/plain": [
       "list"
      ]
     },
     "execution_count": 4,
     "metadata": {},
     "output_type": "execute_result"
    }
   ],
   "source": [
    "type(ls1)"
   ]
  },
  {
   "cell_type": "code",
   "execution_count": 8,
   "metadata": {},
   "outputs": [
    {
     "name": "stdout",
     "output_type": "stream",
     "text": [
      "[10, 20, -4, 12, 3.5]\n",
      "Type is: <class 'list'>\n"
     ]
    }
   ],
   "source": [
    "ls2=[10, 20, -4, 12, 3.5]\n",
    "print(ls2)\n",
    "print('Type is:', type(ls2))"
   ]
  },
  {
   "cell_type": "code",
   "execution_count": 10,
   "metadata": {},
   "outputs": [
    {
     "name": "stdout",
     "output_type": "stream",
     "text": [
      "[3.5, 4, 'hi', [66, 'hello']]\n"
     ]
    }
   ],
   "source": [
    "ls3=[3.5, 4, 'hi',[66, 'hello']]\n",
    "print(ls3)"
   ]
  },
  {
   "cell_type": "code",
   "execution_count": 12,
   "metadata": {},
   "outputs": [
    {
     "data": {
      "text/plain": [
       "list"
      ]
     },
     "execution_count": 12,
     "metadata": {},
     "output_type": "execute_result"
    }
   ],
   "source": [
    "type(ls3)"
   ]
  },
  {
   "cell_type": "code",
   "execution_count": 14,
   "metadata": {},
   "outputs": [
    {
     "name": "stdout",
     "output_type": "stream",
     "text": [
      "3.5\n"
     ]
    }
   ],
   "source": [
    "print(ls3[0])         #indexing the elements"
   ]
  },
  {
   "cell_type": "code",
   "execution_count": 16,
   "metadata": {},
   "outputs": [
    {
     "name": "stdout",
     "output_type": "stream",
     "text": [
      "[66, 'hello']\n"
     ]
    }
   ],
   "source": [
    "print(ls3[3])         #indexing the elements"
   ]
  },
  {
   "cell_type": "code",
   "execution_count": 18,
   "metadata": {},
   "outputs": [
    {
     "name": "stdout",
     "output_type": "stream",
     "text": [
      "66\n"
     ]
    }
   ],
   "source": [
    "print(ls3[3][0])      #print 1st element of inner list"
   ]
  },
  {
   "cell_type": "code",
   "execution_count": 27,
   "metadata": {},
   "outputs": [
    {
     "name": "stdout",
     "output_type": "stream",
     "text": [
      "hello\n"
     ]
    }
   ],
   "source": [
    "print(ls3[3][1])      #print 2st element of inner list"
   ]
  },
  {
   "cell_type": "code",
   "execution_count": 28,
   "metadata": {},
   "outputs": [
    {
     "name": "stdout",
     "output_type": "stream",
     "text": [
      "h\n"
     ]
    }
   ],
   "source": [
    "print(ls3[3][1][0])"
   ]
  },
  {
   "cell_type": "code",
   "execution_count": 3,
   "metadata": {},
   "outputs": [
    {
     "name": "stdout",
     "output_type": "stream",
     "text": [
      "[0, 2, 4, 6, 8, 10, 12, 14, 16, 18]\n"
     ]
    }
   ],
   "source": [
    "ls=list(range(0,20,2))              #even numbers ranging method\n",
    "print(ls)"
   ]
  },
  {
   "cell_type": "code",
   "execution_count": 5,
   "metadata": {},
   "outputs": [
    {
     "name": "stdout",
     "output_type": "stream",
     "text": [
      "[1, 3, 5, 7, 9, 11, 13, 15, 17, 19]\n"
     ]
    }
   ],
   "source": [
    "ls=list(range(1,20,2))          #oddd number ranging method\n",
    "print(ls)"
   ]
  },
  {
   "cell_type": "code",
   "execution_count": 1,
   "metadata": {},
   "outputs": [
    {
     "name": "stdout",
     "output_type": "stream",
     "text": [
      "enter a number:45\n",
      "45\n",
      "90\n",
      "135\n",
      "180\n",
      "225\n",
      "270\n",
      "315\n",
      "360\n",
      "405\n",
      "450\n"
     ]
    }
   ],
   "source": [
    "st=int(input('enter a number:'))    #table of any number\n",
    "for i in range (1,11):\n",
    "    print(st*i)"
   ]
  },
  {
   "cell_type": "code",
   "execution_count": 124,
   "metadata": {},
   "outputs": [
    {
     "name": "stdout",
     "output_type": "stream",
     "text": [
      "enter a number:5\n",
      "[5, 10, 15, 20, 25, 30, 35, 40, 45, 50]\n"
     ]
    }
   ],
   "source": [
    "x=int(input('enter a number:'))\n",
    "ls=[]\n",
    "for i in range (1,11):\n",
    "    ls=ls+ [x*i]\n",
    "print(ls)"
   ]
  },
  {
   "cell_type": "code",
   "execution_count": 17,
   "metadata": {},
   "outputs": [
    {
     "name": "stdout",
     "output_type": "stream",
     "text": [
      "[1, 2, 3, 1, 2, 3, 1, 2, 3]\n"
     ]
    }
   ],
   "source": [
    "# Repetition using *\n",
    "ls=[1,2,3]\n",
    "ls1=ls*3\n",
    "print(ls1)"
   ]
  },
  {
   "cell_type": "code",
   "execution_count": 20,
   "metadata": {},
   "outputs": [
    {
     "name": "stdout",
     "output_type": "stream",
     "text": [
      "['c', 'd']\n",
      "['a', 'b', 'c']\n",
      "['b', 'c', 'd', 'e']\n",
      "['a', 'b', 'c', 'd', 'e']\n",
      "['a', 'b', 'c']\n",
      "['e', 'd', 'c', 'b', 'a']\n"
     ]
    }
   ],
   "source": [
    "#list Slicing\n",
    "t=['a' , 'b' , 'c' , 'd' , 'e']\n",
    "print(t[2:4])\n",
    "print(t[:3])\n",
    "print(t[1:])\n",
    "print(t[:])\n",
    "print(t[:-2])\n",
    "print(t[::-1])"
   ]
  },
  {
   "cell_type": "code",
   "execution_count": 26,
   "metadata": {},
   "outputs": [
    {
     "name": "stdout",
     "output_type": "stream",
     "text": [
      "w\n",
      "['3.5', 'wow', 'hello', '15', '10', '5']\n",
      "['3.5', '15']\n"
     ]
    }
   ],
   "source": [
    "q=['5' , '10' , '15' ,'hello', 'wow', '3.5']\n",
    "print(q[3:][1][2])\n",
    "print(q[::-1])\n",
    "print(q[::-3])"
   ]
  },
  {
   "cell_type": "code",
   "execution_count": 30,
   "metadata": {},
   "outputs": [
    {
     "name": "stdout",
     "output_type": "stream",
     "text": [
      "['a', 'b', 'c', 'd', 'e', 55]\n"
     ]
    }
   ],
   "source": [
    "#list are mmutable\n",
    "t=['a','b','c','d','e','f']\n",
    "t[5]=55\n",
    "print(t)"
   ]
  },
  {
   "cell_type": "markdown",
   "metadata": {},
   "source": [
    "# LIST METHODS"
   ]
  },
  {
   "cell_type": "code",
   "execution_count": 54,
   "metadata": {},
   "outputs": [
    {
     "name": "stdout",
     "output_type": "stream",
     "text": [
      "[1, 2, 3, 4]\n",
      "None\n"
     ]
    }
   ],
   "source": [
    "ls=[1,2,3]                                     #APPEND OR EXTEND FUNTION\n",
    "x = ls.append(4) \n",
    "print(ls)\n",
    "print(x)"
   ]
  },
  {
   "cell_type": "code",
   "execution_count": 48,
   "metadata": {},
   "outputs": [
    {
     "name": "stdout",
     "output_type": "stream",
     "text": [
      "[5, 6, 1, 2, 3]\n"
     ]
    }
   ],
   "source": [
    "ls1=[1,2,3]\n",
    "ls2=[5,6]\n",
    "ls2.extend(ls1)\n",
    "print(ls2)"
   ]
  },
  {
   "cell_type": "code",
   "execution_count": 49,
   "metadata": {},
   "outputs": [
    {
     "name": "stdout",
     "output_type": "stream",
     "text": [
      "[5, 6, [1, 2, 3]]\n"
     ]
    }
   ],
   "source": [
    "ls1=[1,2,3]\n",
    "ls2=[5,6]\n",
    "ls2.append(ls1)\n",
    "print(ls2)"
   ]
  },
  {
   "cell_type": "code",
   "execution_count": 64,
   "metadata": {},
   "outputs": [
    {
     "name": "stdout",
     "output_type": "stream",
     "text": [
      "[-3, 0, 1, 4, 5, 12, 13, 45]\n"
     ]
    }
   ],
   "source": [
    "#Sorting a list          #sorting in increasing order\n",
    "ls=[4, 12, -3, 5, 45, 13, 0,1,]\n",
    "ls.sort()\n",
    "print(ls)"
   ]
  },
  {
   "cell_type": "code",
   "execution_count": 66,
   "metadata": {},
   "outputs": [
    {
     "name": "stdout",
     "output_type": "stream",
     "text": [
      "[45, 13, 12, 5, 4, 1, 0, -3]\n"
     ]
    }
   ],
   "source": [
    "ls=[4, 12, -3, 5, 45, 13, 0,1,]      #sorting in decreasing order\n",
    "ls.sort(reverse=True)\n",
    "print(ls)"
   ]
  },
  {
   "cell_type": "code",
   "execution_count": 76,
   "metadata": {},
   "outputs": [
    {
     "name": "stdout",
     "output_type": "stream",
     "text": [
      "Sorted list:  [-3, 0, 1, 4, 5, 12, 13, 45]\n",
      "Original list:  [4, 12, -3, 5, 45, 13, 0, 1]\n"
     ]
    }
   ],
   "source": [
    "#sorting without modifying original object\n",
    "ls=[4, 12, -3, 5, 45, 13, 0,1,]\n",
    "ls3=sorted(ls)\n",
    "print('Sorted list: ' , ls3)\n",
    "print('Original list: ' , ls)"
   ]
  },
  {
   "cell_type": "code",
   "execution_count": 74,
   "metadata": {},
   "outputs": [
    {
     "name": "stdout",
     "output_type": "stream",
     "text": [
      "Sorted list:  [45, 13, 12, 5, 4, 1, 0, -3]\n",
      "Original list:  [4, 12, -3, 5, 45, 13, 0, 1]\n"
     ]
    }
   ],
   "source": [
    "ls=[4, 12, -3, 5, 45, 13, 0,1,]\n",
    "ls2=sorted(ls,reverse=True)\n",
    "print('Sorted list: ' , ls2)\n",
    "print('Original list: ' , ls)"
   ]
  },
  {
   "cell_type": "code",
   "execution_count": 78,
   "metadata": {},
   "outputs": [
    {
     "name": "stdout",
     "output_type": "stream",
     "text": [
      "Original: [4, 12, -3, 5, 45, 13, 0, 1]\n",
      "Ascending: [-3, 0, 1, 4, 5, 12, 13, 45]\n",
      "descending: [45, 13, 12, 5, 4, 1, 0, -3]\n"
     ]
    }
   ],
   "source": [
    "print('Original:' , ls)\n",
    "print('Ascending:' , ls3)\n",
    "print('descending:' , ls2)\n"
   ]
  },
  {
   "cell_type": "code",
   "execution_count": 80,
   "metadata": {},
   "outputs": [
    {
     "name": "stdout",
     "output_type": "stream",
     "text": [
      "[3, 2, 1]\n"
     ]
    }
   ],
   "source": [
    "#Reverse a list\n",
    "ls=[1,2,3]\n",
    "ls.reverse()\n",
    "print(ls)"
   ]
  },
  {
   "cell_type": "code",
   "execution_count": 82,
   "metadata": {},
   "outputs": [
    {
     "name": "stdout",
     "output_type": "stream",
     "text": [
      "9\n"
     ]
    }
   ],
   "source": [
    "# Deleting elements from the list:     #last element will popped out\n",
    "ls=[1,2,3,4,5,6,7,8,9]\n",
    "x=ls.pop()\n",
    "print(x)"
   ]
  },
  {
   "cell_type": "code",
   "execution_count": 84,
   "metadata": {},
   "outputs": [
    {
     "name": "stdout",
     "output_type": "stream",
     "text": [
      "4\n"
     ]
    }
   ],
   "source": [
    "ls=[1,2,3,4,5,6,7,8,9]              #given indexed will be popped out\n",
    "x=ls.pop(3)\n",
    "print(x)"
   ]
  },
  {
   "cell_type": "code",
   "execution_count": 98,
   "metadata": {},
   "outputs": [
    {
     "name": "stdout",
     "output_type": "stream",
     "text": [
      "[1, 2, 3, 4, 5, 6, 9, 8]\n",
      "hello\n"
     ]
    }
   ],
   "source": [
    "#delete a required elements using remove()\n",
    "ls=[1,2,3,4,5,'hello',6,9,8]\n",
    "ls.remove('hello')\n",
    "print(ls)\n",
    "print(X)"
   ]
  },
  {
   "cell_type": "code",
   "execution_count": 100,
   "metadata": {},
   "outputs": [
    {
     "name": "stdout",
     "output_type": "stream",
     "text": [
      "[1, 2, 4, 5, 'hello', 6, 9, 8]\n",
      "hello\n"
     ]
    }
   ],
   "source": [
    "ls=[1,2,3,4,5,'hello',6,9,8]\n",
    "del ls[2]\n",
    "print(ls)\n",
    "print(X)"
   ]
  },
  {
   "cell_type": "code",
   "execution_count": 102,
   "metadata": {},
   "outputs": [
    {
     "name": "stdout",
     "output_type": "stream",
     "text": [
      "[]\n"
     ]
    }
   ],
   "source": [
    "ls=[1,2,3,4,5,'hello',6,9,8]       #CLEAR=TO REMOVE ALL ELEMENTS FROM A LIST\n",
    "ls.clear()\n",
    "print(ls)"
   ]
  },
  {
   "cell_type": "code",
   "execution_count": 106,
   "metadata": {},
   "outputs": [
    {
     "data": {
      "text/plain": [
       "2"
      ]
     },
     "execution_count": 106,
     "metadata": {},
     "output_type": "execute_result"
    }
   ],
   "source": [
    "ls=[1,2,3,4,5,'hello',6,9,8,1,3,'hello']           #TO COUNT NUMBER OF OCCURSNCE OF AN ITEM IN THE LIST\n",
    "ls.count('hello')"
   ]
  },
  {
   "cell_type": "code",
   "execution_count": 108,
   "metadata": {},
   "outputs": [
    {
     "name": "stdout",
     "output_type": "stream",
     "text": [
      "[1, 2, 3, 4, 5, 'hello', 6, 9, 8]\n"
     ]
    }
   ],
   "source": [
    "ls=[1,2,3,4,5,'hello',6,9,8]                       #Returns a copy of a list.\n",
    "ls1=ls.copy()\n",
    "print(ls1)"
   ]
  },
  {
   "cell_type": "markdown",
   "metadata": {},
   "source": [
    "# COPYING ONE OBJECT INTO OTHER"
   ]
  },
  {
   "cell_type": "code",
   "execution_count": 116,
   "metadata": {},
   "outputs": [
    {
     "name": "stdout",
     "output_type": "stream",
     "text": [
      "[1, 4, 3]\n",
      "[1, 4, 3]\n",
      "2306827189000\n",
      "2306827189000\n",
      "[1, 4, 10]\n"
     ]
    }
   ],
   "source": [
    "ls=[1,2,3]\n",
    "ls1=ls\n",
    "#ls1=ls.copy()        #modifying ls1 will reflect ls also #use copy() function to avoid the problems\n",
    "ls1[1]=4\n",
    "print(ls)\n",
    "print(ls1)\n",
    "print(id(ls))\n",
    "print(id(ls1))\n",
    "ls1[2]=10           #\n",
    "print(ls1)"
   ]
  },
  {
   "cell_type": "code",
   "execution_count": 118,
   "metadata": {},
   "outputs": [
    {
     "name": "stdout",
     "output_type": "stream",
     "text": [
      "[1, 20, 56, 55, 12, -3.5]\n"
     ]
    }
   ],
   "source": [
    "#inserting single element at a required position\n",
    "ls=[1,20,56,12,-3.5]\n",
    "ls.insert(3,55)\n",
    "print(ls)"
   ]
  },
  {
   "cell_type": "code",
   "execution_count": 120,
   "metadata": {},
   "outputs": [
    {
     "name": "stdout",
     "output_type": "stream",
     "text": [
      "[1, 20, 56, 'hello', 12, -3.5]\n"
     ]
    }
   ],
   "source": [
    "ls=[1,20,56,12,-3.5]      #another example\n",
    "ls.insert(3,'hello')\n",
    "print(ls)"
   ]
  },
  {
   "cell_type": "code",
   "execution_count": 121,
   "metadata": {},
   "outputs": [],
   "source": [
    "#UTILITY FUNCTIONS ON LISTS"
   ]
  },
  {
   "cell_type": "code",
   "execution_count": 123,
   "metadata": {},
   "outputs": [
    {
     "name": "stdout",
     "output_type": "stream",
     "text": [
      "1278\n",
      "-4\n",
      "2366\n",
      "7\n"
     ]
    }
   ],
   "source": [
    "ls=[12,354,-4,5,55,666,1278]\n",
    "print(max(ls))\n",
    "print(min(ls))\n",
    "print(sum(ls))\n",
    "print(len(ls))\n"
   ]
  },
  {
   "cell_type": "code",
   "execution_count": 126,
   "metadata": {},
   "outputs": [
    {
     "name": "stdout",
     "output_type": "stream",
     "text": [
      "['H', 'e', 'l', 'l', 'o']\n"
     ]
    }
   ],
   "source": [
    "#Converting a string into list of characters\n",
    "s=\"Hello\"\n",
    "ls=list(s)\n",
    "print(ls)"
   ]
  },
  {
   "cell_type": "code",
   "execution_count": 128,
   "metadata": {},
   "outputs": [
    {
     "name": "stdout",
     "output_type": "stream",
     "text": [
      "['06', '02', '2018']\n"
     ]
    }
   ],
   "source": [
    "#Examples: spliting a date into dd,mm and yyyy\n",
    "d='06/02/2018'\n",
    "ls=d.split('/')\n",
    "print(ls)"
   ]
  },
  {
   "cell_type": "code",
   "execution_count": 5,
   "metadata": {},
   "outputs": [
    {
     "data": {
      "text/plain": [
       "'hello how are you'"
      ]
     },
     "execution_count": 5,
     "metadata": {},
     "output_type": "execute_result"
    }
   ],
   "source": [
    "ls=['hello', 'how', 'are', 'you']            #for combiniting the strings in given list\n",
    "s=' '\n",
    "s.join(ls)"
   ]
  },
  {
   "cell_type": "markdown",
   "metadata": {},
   "source": [
    "# Que=Read an expression check whwether it is well -bracketed Return true,if the expression is well bracketed,otherwise,return false.Example=\"(a+b)\" is TRUE,\"(a+(b*c)-d=TRUE,\"(a+ \"=FALSE,????\n"
   ]
  },
  {
   "cell_type": "code",
   "execution_count": 11,
   "metadata": {},
   "outputs": [
    {
     "name": "stdout",
     "output_type": "stream",
     "text": [
      "Enter the string(a+\n",
      "True\n"
     ]
    }
   ],
   "source": [
    "def wellbracketed(s):\n",
    "    depth=0\n",
    "    for i in s:\n",
    "        if i =='(':\n",
    "            depth+=1\n",
    "        elif i==')':\n",
    "            depth-=1\n",
    "            \n",
    "        if depth<0:\n",
    "            return False\n",
    "        \n",
    "    if depth==0:\n",
    "        return True\n",
    "    else:\n",
    "        return False\n",
    "        \n",
    "string=input(\"Enter the string\")\n",
    "x=wellbracketed('string')\n",
    "print(x)\n",
    "\n"
   ]
  },
  {
   "cell_type": "code",
   "execution_count": 2,
   "metadata": {},
   "outputs": [],
   "source": [
    "#Consider the following Python Function:\n",
    "\n",
    "\n",
    "def mystery(ls):\n",
    "    if len(ls) < 2:\n",
    "        return(ls)\n",
    "    else:\n",
    "        return (mystery(ls[1:1]) + [ls[0]])\n",
    "    x=[17,12,41,28,25]\n",
    "    print(x)"
   ]
  },
  {
   "cell_type": "code",
   "execution_count": 3,
   "metadata": {},
   "outputs": [
    {
     "name": "stdout",
     "output_type": "stream",
     "text": [
      "Enter value of k5\n"
     ]
    },
    {
     "data": {
      "text/plain": [
       "[1, 2, 3, 4, 5]"
      ]
     },
     "execution_count": 3,
     "metadata": {},
     "output_type": "execute_result"
    }
   ],
   "source": [
    "def rotatelist(l,k):\n",
    "    mylist=l[:]\n",
    "    for i in range(0,k):\n",
    "        mylist=[mylist[-1]] + mylist[0:-1]\n",
    "    return (mylist)\n",
    "x=[1,2,3,4,5]\n",
    "y=int(input('Enter value of k'))\n",
    "rotatelist(x,y)"
   ]
  },
  {
   "cell_type": "code",
   "execution_count": 2,
   "metadata": {},
   "outputs": [
    {
     "name": "stdout",
     "output_type": "stream",
     "text": [
      "3 55\n"
     ]
    }
   ],
   "source": [
    "def f(value, values):\n",
    "    v=1\n",
    "    values[0] = 55\n",
    "t=3\n",
    "v=[1,2,3]\n",
    "f(t,v)\n",
    "print(t,v[0])"
   ]
  },
  {
   "cell_type": "code",
   "execution_count": 8,
   "metadata": {},
   "outputs": [
    {
     "name": "stdout",
     "output_type": "stream",
     "text": [
      "[10, 2, 20, 4, 30, 6, 40, 8, 50]\n"
     ]
    }
   ],
   "source": [
    "a=[1,2,3,4,5,6,7,8,9]\n",
    "a[::2]=10,20,30,40,50\n",
    "print(a)"
   ]
  },
  {
   "cell_type": "code",
   "execution_count": null,
   "metadata": {},
   "outputs": [],
   "source": []
  }
 ],
 "metadata": {
  "kernelspec": {
   "display_name": "Python 3",
   "language": "python",
   "name": "python3"
  },
  "language_info": {
   "codemirror_mode": {
    "name": "ipython",
    "version": 3
   },
   "file_extension": ".py",
   "mimetype": "text/x-python",
   "name": "python",
   "nbconvert_exporter": "python",
   "pygments_lexer": "ipython3",
   "version": "3.7.1"
  }
 },
 "nbformat": 4,
 "nbformat_minor": 2
}
