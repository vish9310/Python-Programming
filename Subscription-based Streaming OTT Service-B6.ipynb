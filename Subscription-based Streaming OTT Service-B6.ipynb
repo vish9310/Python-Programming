{
 "cells": [
  {
   "cell_type": "code",
   "execution_count": 1,
   "metadata": {},
   "outputs": [],
   "source": [
    "import pandas as pd\n",
    "import numpy as np"
   ]
  },
  {
   "cell_type": "code",
   "execution_count": 29,
   "metadata": {},
   "outputs": [
    {
     "name": "stdout",
     "output_type": "stream",
     "text": [
      "3\n",
      "50,120,10 25,42,60 120,150,60\n",
      "1,2,3\n",
      "50\n",
      "60\n"
     ]
    }
   ],
   "source": [
    "viewers = input()\n",
    "\n",
    "avg_viwership = input().rstrip().split()\n",
    "\n",
    "avg_viwership_list = []\n",
    "\n",
    "for i in avg_viwership:\n",
    "    \n",
    "    avg_viwership_list.append(i.split(','))\n",
    "\n",
    "avg_viwership_arr = np.array(avg_viwership_list, dtype = int)\n",
    "\n",
    "m_n_p = list(map(int, input().rstrip().split(',')))\n",
    "\n",
    "rows, cols = avg_viwership_arr.shape\n",
    "\n",
    "avg_viwership_arr1 = np.empty([rows,cols], dtype = int)\n",
    "\n",
    "for i in range (0, rows):\n",
    "    \n",
    "    for j in range (0, cols):\n",
    "        \n",
    "        avg_viwership_arr1[i,j] = np.power(avg_viwership_arr[i,j], m_n_p[j])\n",
    "        \n",
    "n_perc = int(input())\n",
    "\n",
    "result = np.percentile(avg_viwership_arr,n_perc)\n",
    "\n",
    "print(int(result))"
   ]
  },
  {
   "cell_type": "code",
   "execution_count": null,
   "metadata": {},
   "outputs": [],
   "source": []
  }
 ],
 "metadata": {
  "kernelspec": {
   "display_name": "Python 3",
   "language": "python",
   "name": "python3"
  },
  "language_info": {
   "codemirror_mode": {
    "name": "ipython",
    "version": 3
   },
   "file_extension": ".py",
   "mimetype": "text/x-python",
   "name": "python",
   "nbconvert_exporter": "python",
   "pygments_lexer": "ipython3",
   "version": "3.7.3"
  }
 },
 "nbformat": 4,
 "nbformat_minor": 2
}
