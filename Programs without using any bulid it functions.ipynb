{
 "cells": [
  {
   "cell_type": "markdown",
   "metadata": {},
   "source": [
    "# Linear Search"
   ]
  },
  {
   "cell_type": "code",
   "execution_count": 7,
   "metadata": {},
   "outputs": [
    {
     "name": "stdout",
     "output_type": "stream",
     "text": [
      "list of items is [5, 7, 10, 12, 15]\n",
      "enter item to search:00\n",
      "item not found\n"
     ]
    }
   ],
   "source": [
    "ls = [5, 7, 10, 12, 15]\n",
    " \n",
    "print(\"list of items is\", ls)\n",
    " \n",
    "x = int(input(\"enter item to search:\"))\n",
    " \n",
    "i = flag = 0\n",
    " \n",
    "while i < len(items):\n",
    "    if ls[i] == x:\n",
    "        flag = 1\n",
    "        break\n",
    " \n",
    "    i = i + 1\n",
    " \n",
    "if flag == 1:\n",
    "    print(\"item found at position:\", i + 1)\n",
    "else:\n",
    "    print(\"item not found\")\n",
    "    "
   ]
  },
  {
   "cell_type": "code",
   "execution_count": 15,
   "metadata": {},
   "outputs": [
    {
     "name": "stdout",
     "output_type": "stream",
     "text": [
      "enter array size:5\n",
      "1\n",
      "2\n",
      "3\n",
      "5\n",
      "8\n",
      "Enter key to be searched:5\n",
      "Not Found\n"
     ]
    }
   ],
   "source": [
    "def seq_sequence (ls, key):\n",
    "    for i in range (len(ls)):\n",
    "        if ls[i]==key:\n",
    "            return i\n",
    "        return -1\n",
    "    \n",
    "ls=[]\n",
    "n=int(input('enter array size:'))\n",
    "for i in range(n):\n",
    "    ls.append(int(input()))\n",
    "    \n",
    "    \n",
    "key=int(input('Enter key to be searched:'))\n",
    "\n",
    "result=seq_sequence(ls,key)\n",
    "if result==-1:\n",
    "    print('Not Found')\n",
    "else:\n",
    "    print('Key found at position',result)"
   ]
  }
 ],
 "metadata": {
  "kernelspec": {
   "display_name": "Python 3",
   "language": "python",
   "name": "python3"
  },
  "language_info": {
   "codemirror_mode": {
    "name": "ipython",
    "version": 3
   },
   "file_extension": ".py",
   "mimetype": "text/x-python",
   "name": "python",
   "nbconvert_exporter": "python",
   "pygments_lexer": "ipython3",
   "version": "3.7.1"
  }
 },
 "nbformat": 4,
 "nbformat_minor": 2
}
