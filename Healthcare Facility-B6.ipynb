{
 "cells": [
  {
   "cell_type": "code",
   "execution_count": 2,
   "metadata": {},
   "outputs": [],
   "source": [
    "import numpy as np\n",
    "import pandas as pd"
   ]
  },
  {
   "cell_type": "code",
   "execution_count": 44,
   "metadata": {},
   "outputs": [
    {
     "name": "stdout",
     "output_type": "stream",
     "text": [
      "4\n",
      "1.5 1.75 1.63 1.71\n",
      "56 75 62 75\n",
      "Diabetes\n"
     ]
    }
   ],
   "source": [
    "no_pat = int(input())\n",
    "\n",
    "ht = np.asarray(list(map(float, input().rstrip().split())))\n",
    "\n",
    "wt = np.asarray(list(map(int, input().rstrip().split())))\n",
    "\n",
    "BMI = wt/(np.power(ht,2))\n",
    "\n",
    "avg_BMI = round(BMI.mean(),2)\n",
    "\n",
    "if ((avg_BMI>=22.0) and (avg_BMI<=25.6)):\n",
    "    print(\"Diabetes\")\n",
    "\n",
    "elif ((avg_BMI>=18.0) and (avg_BMI<=21.99)):\n",
    "    print(\"Hypertension\")\n",
    "\n",
    "else:\n",
    "    print(\"Dislipidemia\")"
   ]
  },
  {
   "cell_type": "code",
   "execution_count": null,
   "metadata": {},
   "outputs": [],
   "source": []
  }
 ],
 "metadata": {
  "kernelspec": {
   "display_name": "Python 3",
   "language": "python",
   "name": "python3"
  },
  "language_info": {
   "codemirror_mode": {
    "name": "ipython",
    "version": 3
   },
   "file_extension": ".py",
   "mimetype": "text/x-python",
   "name": "python",
   "nbconvert_exporter": "python",
   "pygments_lexer": "ipython3",
   "version": "3.7.1"
  }
 },
 "nbformat": 4,
 "nbformat_minor": 2
}
