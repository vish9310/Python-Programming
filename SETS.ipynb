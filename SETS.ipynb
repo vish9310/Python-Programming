{
 "cells": [
  {
   "cell_type": "code",
   "execution_count": 2,
   "metadata": {},
   "outputs": [
    {
     "name": "stdout",
     "output_type": "stream",
     "text": [
      "<class 'set'>\n"
     ]
    }
   ],
   "source": [
    "#Creating a simple set?\n",
    "\n",
    "\n",
    "st={'Apple', 'Banana', 'Orange'}\n",
    "print(type(st))"
   ]
  },
  {
   "cell_type": "code",
   "execution_count": 4,
   "metadata": {},
   "outputs": [
    {
     "name": "stdout",
     "output_type": "stream",
     "text": [
      "{'Banana', 'Apple', 'Orange'}\n"
     ]
    }
   ],
   "source": [
    "#add element to set\n",
    "\n",
    "print(st)"
   ]
  },
  {
   "cell_type": "code",
   "execution_count": 6,
   "metadata": {},
   "outputs": [
    {
     "name": "stdout",
     "output_type": "stream",
     "text": [
      "{'Banana', 'Apple', 'Orange', 'Cherry'}\n"
     ]
    }
   ],
   "source": [
    "st.add('Cherry')\n",
    "print(st)"
   ]
  },
  {
   "cell_type": "code",
   "execution_count": 18,
   "metadata": {},
   "outputs": [
    {
     "name": "stdout",
     "output_type": "stream",
     "text": [
      "{'Apple', 'Orange'}\n"
     ]
    }
   ],
   "source": [
    "#remove element to set\n",
    "st={'Apple', 'Banana', 'Orange'}\n",
    "st.remove('Banana')\n",
    "print(st)\n"
   ]
  },
  {
   "cell_type": "code",
   "execution_count": 20,
   "metadata": {},
   "outputs": [
    {
     "name": "stdout",
     "output_type": "stream",
     "text": [
      "{'Apple', 'Banana', 'Cherry', 'Papaya', 'Orange'}\n"
     ]
    }
   ],
   "source": [
    "#adding more then one element at a time?\n",
    "st={'Apple', 'Banana', 'Orange'}\n",
    "st.update(['Cherry' , 'Papaya'])\n",
    "print(st)"
   ]
  },
  {
   "cell_type": "code",
   "execution_count": 24,
   "metadata": {},
   "outputs": [
    {
     "name": "stdout",
     "output_type": "stream",
     "text": [
      "{'Banana', 'Apple', 'Orange'}\n"
     ]
    }
   ],
   "source": [
    "#Sets will not allow duplication of data elements:\n",
    "st={'Apple', 'Banana', 'Orange','Banana'}\n",
    "print(st)"
   ]
  },
  {
   "cell_type": "code",
   "execution_count": 3,
   "metadata": {},
   "outputs": [
    {
     "name": "stdout",
     "output_type": "stream",
     "text": [
      "[0, 1, 2, 4, 5, 6, 7, 8, 9, 23]\n"
     ]
    }
   ],
   "source": [
    "#Write a program to eleiminate repeated entries in a list and keep single copu of each element.\n",
    "ls=[1,23,5,6,4,8,9,7,6,2,1,4,5,6,2,0,9,5,4,8,7,]\n",
    "ls=list(set(ls))\n",
    "print(ls)\n"
   ]
  },
  {
   "cell_type": "markdown",
   "metadata": {},
   "source": [
    "# lambda Function"
   ]
  },
  {
   "cell_type": "code",
   "execution_count": 5,
   "metadata": {},
   "outputs": [
    {
     "name": "stdout",
     "output_type": "stream",
     "text": [
      "25\n"
     ]
    }
   ],
   "source": [
    "x=lambda a:a+10\n",
    "print(x(15))"
   ]
  },
  {
   "cell_type": "code",
   "execution_count": 7,
   "metadata": {},
   "outputs": [
    {
     "name": "stdout",
     "output_type": "stream",
     "text": [
      "200\n",
      "20\n",
      "10\n"
     ]
    }
   ],
   "source": [
    "#lambda function with two arguments\n",
    "\n",
    "x=lambda a,b:a*b\n",
    "print(x(10,20))\n",
    "print(x(4,5))\n",
    "print(x(2,5))"
   ]
  },
  {
   "cell_type": "code",
   "execution_count": 9,
   "metadata": {},
   "outputs": [
    {
     "name": "stdout",
     "output_type": "stream",
     "text": [
      "4\n",
      "9\n"
     ]
    }
   ],
   "source": [
    "def myfunc(n):\n",
    "    return lambda a:a*n\n",
    "mydoubler = myfunc(2)     #myfunc() returns Lambda function statement\n",
    "mytripler=myfunc(3)\n",
    "\n",
    "print(mydoubler(2))       #argument a in lambda function takes 2 now\n",
    "print(mytripler(3))"
   ]
  },
  {
   "cell_type": "code",
   "execution_count": 15,
   "metadata": {},
   "outputs": [
    {
     "name": "stdout",
     "output_type": "stream",
     "text": [
      "[(1, 1), (11, 1), (7, 2), (12, 2), (13, 2), (14, 2)]\n"
     ]
    }
   ],
   "source": [
    "def histogram(l):\n",
    "    ls=[]\n",
    "    for i in l:\n",
    "        ls.append((i,l.count(i)))\n",
    "        \n",
    "    ls=list(set(ls))\n",
    "    ls.sort(key=lambda x:(x[1],x[0]))\n",
    "    \n",
    "    print(ls)\n",
    "    \n",
    "histogram([13,12,11,13,14,1,7,7,14,12])\n",
    "    "
   ]
  },
  {
   "cell_type": "code",
   "execution_count": 18,
   "metadata": {},
   "outputs": [
    {
     "name": "stdout",
     "output_type": "stream",
     "text": [
      "[22, 88, 54, 66, 22, 44]\n"
     ]
    }
   ],
   "source": [
    "#map(), reduce(),filter()\n",
    "\n",
    "#lambda function with filter() to get only even number\n",
    "\n",
    "ls=[5,7,22,97,88,54,66,22,44,15,1,3,9,7]\n",
    "final_list= list(filter(lambda x: (x%2 ==0) , ls))\n",
    "print(final_list)"
   ]
  },
  {
   "cell_type": "code",
   "execution_count": 1,
   "metadata": {},
   "outputs": [
    {
     "name": "stdout",
     "output_type": "stream",
     "text": [
      "enter a string:hello how are you\n",
      "['hello', 'how']\n"
     ]
    }
   ],
   "source": [
    "#extraxt a words from a string which are starting with 'h'\n",
    "s=input('enter a string:')\n",
    "ls=s.split()\n",
    "ls1=list(filter(lambda x: (x.startswith('h')), ls))\n",
    "print(ls1)"
   ]
  },
  {
   "cell_type": "code",
   "execution_count": 4,
   "metadata": {},
   "outputs": [
    {
     "name": "stdout",
     "output_type": "stream",
     "text": [
      "enter a string:usa india uk ger\n",
      "['usa', 'ger']\n"
     ]
    }
   ],
   "source": [
    "#extract a words from a string whose lenth is 3?\n",
    "s=input('enter a string:')\n",
    "ls=s.split()\n",
    "ls1=list(filter(lambda x: len(x)==3, ls))\n",
    "print(ls1)"
   ]
  },
  {
   "cell_type": "code",
   "execution_count": 6,
   "metadata": {},
   "outputs": [
    {
     "name": "stdout",
     "output_type": "stream",
     "text": [
      "[10, 14, 44, 194, 108, 124, 154, 46, 146, 122]\n"
     ]
    }
   ],
   "source": [
    "#lambda function with map()\n",
    "\n",
    "ls=[5,7,22,97,54,62,77,23,73,61]\n",
    "final_list= list(map(lambda x:x*2, ls))\n",
    "print(final_list)"
   ]
  },
  {
   "cell_type": "code",
   "execution_count": 7,
   "metadata": {},
   "outputs": [],
   "source": [
    "#converting list of strings into uppercase using map()\n",
    "\n",
    "ls=['hi' , 'hello' , 'how' , 'world']\n"
   ]
  },
  {
   "cell_type": "code",
   "execution_count": 9,
   "metadata": {},
   "outputs": [
    {
     "name": "stdout",
     "output_type": "stream",
     "text": [
      "193\n"
     ]
    }
   ],
   "source": [
    "#Lambda function with reduce\n",
    "from functools import reduce\n",
    "ls=[5,8,10,20,50,100]\n",
    "sum=reduce((lambda x,y: x+y) , ls)\n",
    "print(sum)"
   ]
  },
  {
   "cell_type": "code",
   "execution_count": 11,
   "metadata": {},
   "outputs": [
    {
     "name": "stdout",
     "output_type": "stream",
     "text": [
      "('1', '2', '3', '4')\n"
     ]
    }
   ],
   "source": [
    "a='1','2'\n",
    "b=('3','4')\n",
    "print(a+b)"
   ]
  },
  {
   "cell_type": "code",
   "execution_count": 4,
   "metadata": {},
   "outputs": [
    {
     "name": "stdout",
     "output_type": "stream",
     "text": [
      "10\n"
     ]
    },
    {
     "data": {
      "text/plain": [
       "[None]"
      ]
     },
     "execution_count": 4,
     "metadata": {},
     "output_type": "execute_result"
    }
   ],
   "source": [
    "init_tuple_d= 1,2\n",
    "init_tuple_f= (3,4)\n",
    "[print(sum(x)) for x in [init_tuple_d + init_tuple_f]]"
   ]
  },
  {
   "cell_type": "code",
   "execution_count": 5,
   "metadata": {},
   "outputs": [
    {
     "ename": "NameError",
     "evalue": "name 'x' is not defined",
     "output_type": "error",
     "traceback": [
      "\u001b[1;31m---------------------------------------------------------------------------\u001b[0m",
      "\u001b[1;31mNameError\u001b[0m                                 Traceback (most recent call last)",
      "\u001b[1;32m<ipython-input-5-8958eda05a73>\u001b[0m in \u001b[0;36m<module>\u001b[1;34m\u001b[0m\n\u001b[1;32m----> 1\u001b[1;33m \u001b[0mtriples\u001b[0m\u001b[1;33m=\u001b[0m\u001b[1;33m[\u001b[0m\u001b[0mx\u001b[0m\u001b[1;33m,\u001b[0m\u001b[0my\u001b[0m\u001b[1;33m,\u001b[0m\u001b[0mz\u001b[0m\u001b[1;33m]\u001b[0m\u001b[1;33m\u001b[0m\u001b[1;33m\u001b[0m\u001b[0m\n\u001b[0m",
      "\u001b[1;31mNameError\u001b[0m: name 'x' is not defined"
     ]
    }
   ],
   "source": [
    "triples=[x,y,z]\n"
   ]
  },
  {
   "cell_type": "code",
   "execution_count": 11,
   "metadata": {},
   "outputs": [
    {
     "ename": "SyntaxError",
     "evalue": "EOL while scanning string literal (<ipython-input-11-0c5616f2499d>, line 4)",
     "output_type": "error",
     "traceback": [
      "\u001b[1;36m  File \u001b[1;32m\"<ipython-input-11-0c5616f2499d>\"\u001b[1;36m, line \u001b[1;32m4\u001b[0m\n\u001b[1;33m    triples=[('UGM2018001', 'MA101' , 'AB') , ('UGP2018132' , 'PH101', 'B') , ('UGM201801' , 'PH101' , 'B)]\u001b[0m\n\u001b[1;37m                                                                                                           ^\u001b[0m\n\u001b[1;31mSyntaxError\u001b[0m\u001b[1;31m:\u001b[0m EOL while scanning string literal\n"
     ]
    }
   ],
   "source": [
    "#QUESTION:-\n",
    "ls=(coursecode,coursename)={('MA101','CALCULUS'),('PH101','MECHANICS'),('HU101','ENGLISH')}\n",
    "ls1=(rollnumber,name)={('UGM2018001' , 'ROHIT GREWAL') , ('UGP2018132' , 'NEHA TALWAR')}\n",
    "triples=[('UGM2018001', 'MA101' , 'AB') , ('UGP2018132' , 'PH101', 'B') , ('UGM201801' , 'PH101' , 'B)]\n",
    "print(ls)\n",
    "                           \n",
    "                                                                           \n",
    "                                                                           \n",
    "                                                                           \n",
    "                                                                           \n"
   ]
  },
  {
   "cell_type": "code",
   "execution_count": null,
   "metadata": {},
   "outputs": [],
   "source": []
  }
 ],
 "metadata": {
  "kernelspec": {
   "display_name": "Python 3",
   "language": "python",
   "name": "python3"
  },
  "language_info": {
   "codemirror_mode": {
    "name": "ipython",
    "version": 3
   },
   "file_extension": ".py",
   "mimetype": "text/x-python",
   "name": "python",
   "nbconvert_exporter": "python",
   "pygments_lexer": "ipython3",
   "version": "3.7.1"
  }
 },
 "nbformat": 4,
 "nbformat_minor": 2
}
