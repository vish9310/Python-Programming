{
 "cells": [
  {
   "cell_type": "code",
   "execution_count": 12,
   "metadata": {},
   "outputs": [
    {
     "name": "stdout",
     "output_type": "stream",
     "text": [
      "Enter the stringmalayalam is wow language.\n",
      "malayalam is a pallindrome\n",
      "is is not pallindrome\n",
      "wow is a pallindrome\n",
      "language. is not pallindrome\n"
     ]
    }
   ],
   "source": [
    "S=input('Enter the string')\n",
    "for i in S.split(' '):\n",
    "    if i ==i[::-1]:\n",
    "        print(\"{0} is a pallindrome\".format(i))\n",
    "    else:\n",
    "              print(\"{0} is not pallindrome\".format(i))"
   ]
  },
  {
   "cell_type": "code",
   "execution_count": 19,
   "metadata": {},
   "outputs": [
    {
     "name": "stdout",
     "output_type": "stream",
     "text": [
      "Enter the String:vishal\n",
      "Extracting string is: vial\n"
     ]
    }
   ],
   "source": [
    "def substring(s):\n",
    "    if len(s)<2:\n",
    "        return s\n",
    "    else:\n",
    "        sub=s[:2]+s[-2:]\n",
    "        return sub\n",
    "\n",
    "s=input('Enter the String:')\n",
    "s1=substring(s)\n",
    "print(\"Extracting string is:\", s1)"
   ]
  },
  {
   "cell_type": "code",
   "execution_count": 21,
   "metadata": {},
   "outputs": [
    {
     "name": "stdout",
     "output_type": "stream",
     "text": [
      "enter a stringhello how are you\n",
      "String without space: hellohowareyou\n"
     ]
    }
   ],
   "source": [
    "s=input(\"enter a string\")\n",
    "s1=s.replace(' ', '')\n",
    "print(\"String without space:\",s1)"
   ]
  },
  {
   "cell_type": "code",
   "execution_count": 23,
   "metadata": {},
   "outputs": [
    {
     "name": "stdout",
     "output_type": "stream",
     "text": [
      "enter a stringvishalupadhyay\n",
      "String with off indexed characters removed: vsauaha\n"
     ]
    }
   ],
   "source": [
    "s=input(\"enter a string\")\n",
    "s1=s[::2]\n",
    "print(\"String with off indexed characters removed:\" , s1)"
   ]
  },
  {
   "cell_type": "code",
   "execution_count": 27,
   "metadata": {},
   "outputs": [
    {
     "name": "stdout",
     "output_type": "stream",
     "text": [
      "Enter a Stringvishal\n",
      "lalayalam is wow languagev\n"
     ]
    }
   ],
   "source": [
    "s=input(\"Enter a String\")\n",
    "m=s[-1]+S[1:-1]+s[0]\n",
    "print(m)"
   ]
  },
  {
   "cell_type": "code",
   "execution_count": null,
   "metadata": {},
   "outputs": [],
   "source": []
  }
 ],
 "metadata": {
  "kernelspec": {
   "display_name": "Python 3",
   "language": "python",
   "name": "python3"
  },
  "language_info": {
   "codemirror_mode": {
    "name": "ipython",
    "version": 3
   },
   "file_extension": ".py",
   "mimetype": "text/x-python",
   "name": "python",
   "nbconvert_exporter": "python",
   "pygments_lexer": "ipython3",
   "version": "3.7.1"
  }
 },
 "nbformat": 4,
 "nbformat_minor": 2
}
