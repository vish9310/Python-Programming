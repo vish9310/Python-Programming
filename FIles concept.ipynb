{
 "cells": [
  {
   "cell_type": "code",
   "execution_count": 1,
   "metadata": {},
   "outputs": [
    {
     "name": "stdout",
     "output_type": "stream",
     "text": [
      "Enter a5\n",
      "Enter b0\n",
      "DIvision by Zero is not possible, Enter b again\n",
      "Enter b5\n",
      "Division is 1.0\n",
      "Program Over\n"
     ]
    }
   ],
   "source": [
    "#Example of file Handling\n",
    "\n",
    "a=int(input('Enter a'))\n",
    "while True:\n",
    "    b=int(input('Enter b'))\n",
    "    try:\n",
    "        x=a/b\n",
    "        break\n",
    "    except:\n",
    "        print('DIvision by Zero is not possible, Enter b again')\n",
    "\n",
    "print('Division is', x)\n",
    "print('Program Over')"
   ]
  },
  {
   "cell_type": "code",
   "execution_count": 7,
   "metadata": {},
   "outputs": [
    {
     "name": "stdout",
     "output_type": "stream",
     "text": [
      "File opened Successfully\n",
      "Line number 1 : Hello how are you?\n",
      "\n",
      "Line number 2 : i am fine.\n",
      "\n",
      "Line number 3 : how about you?\n",
      "\n",
      "Line number 4 : i am also fine.\n",
      "\n",
      "Line number 5 : aibdfdbdvsdv\n",
      "\n",
      "Line number 6 : dvasdvedfcverr\n",
      "\n",
      "Line number 7 : rvesvefvefv\n",
      "\n",
      "Line number 8 : rvvcerwvrvcevcefv\n",
      "\n",
      "Line number 9 : vadvaedverv\n",
      "\n",
      "Line number 10 : fverfvfvdcvrve\n",
      "\n",
      "Line number 11 : vefverfvergergbv\n",
      "\n",
      "Line number 12 : v\n",
      "\n",
      "Line number 13 : ererv\n",
      "\n",
      "Line number 14 : evefverve\n",
      "\n",
      "Line number 15 : v\n",
      "\n",
      "Line number 16 : v\n",
      "\n",
      "Line number 17 : v\n",
      "\n",
      "Line number 18 : v\n",
      "\n",
      "Line number 19 : v\n",
      "\n",
      "Line number 20 : rsnlvkejwerv\n",
      "\n",
      "Line number 21 : skdvbeivbwivbewdcve\n",
      "\n",
      "Line number 22 : leneviervbierhvberv\n",
      "\n",
      "Line number 23 : ve\n",
      "\n",
      "Line number 24 : cvv\n",
      "\n",
      "Line number 25 : 2\n",
      "\n",
      "Line number 26 : 5\n",
      "\n",
      "Total lines= 26\n"
     ]
    }
   ],
   "source": [
    "#Example to open a file and count numbers of line in that file???\n",
    "\n",
    "try:\n",
    "    fhand=open('myfile.txt', 'r')\n",
    "    print('File opened Successfully')\n",
    "except:\n",
    "    print('file cannot be opened')\n",
    "    exit()\n",
    "    \n",
    "    \n",
    "count=0\n",
    "for line in fhand:\n",
    "    count+=1\n",
    "    print(\"Line number\", count, \":\" , line,\n",
    "    \n",
    "print('Total lines=', count)\n",
    "        \n",
    "    "
   ]
  },
  {
   "cell_type": "code",
   "execution_count": null,
   "metadata": {},
   "outputs": [],
   "source": [
    "#Usage of read() function.This will read whole file as a single string and\n",
    "#Store it into a variable of the program."
   ]
  },
  {
   "cell_type": "code",
   "execution_count": 9,
   "metadata": {},
   "outputs": [
    {
     "name": "stdout",
     "output_type": "stream",
     "text": [
      "255\n",
      "The file contents are:  Hello how are you?\n",
      "i am fine.\n",
      "how about you?\n",
      "i am also fine.\n",
      "aibdfdbdvsdv\n",
      "dvasdvedfcverr\n",
      "rvesvefvefv\n",
      "rvvcerwvrvcevcefv\n",
      "vadvaedverv\n",
      "fverfvfvdcvrve\n",
      "vefverfvergergbv\n",
      "v\n",
      "ererv\n",
      "evefverve\n",
      "v\n",
      "v\n",
      "v\n",
      "v\n",
      "v\n",
      "rsnlvkejwerv\n",
      "skdvbeivbwivbewdcve\n",
      "leneviervbierhvberv\n",
      "ve\n",
      "cvv\n",
      "2\n",
      "5\n",
      "\n",
      "The first 20 characters of the file are: Hello how are you?\n",
      "i\n"
     ]
    }
   ],
   "source": [
    "try:\n",
    "    fhand=open('myfile.txt')\n",
    "except:\n",
    "    print('File cannot be opened.')\n",
    "    exit()\n",
    "    \n",
    "s=fhand.read()\n",
    "print(len(s))    #counting number of characters in the file\n",
    "print('The file contents are: ',s)\n",
    "print('The first 20 characters of the file are:' ,s[:20])\n"
   ]
  },
  {
   "cell_type": "code",
   "execution_count": 16,
   "metadata": {},
   "outputs": [
    {
     "name": "stdout",
     "output_type": "stream",
     "text": [
      "enter a lineindia\n",
      "enter a lineasia\n",
      "enter a lineworld\n",
      "enter a lineamerica\n",
      "enter a lineusa\n",
      "file writing over!!\n"
     ]
    }
   ],
   "source": [
    "#Example to write a data into file?\n",
    "\n",
    "fout=open('newfile.txt','w')\n",
    "\n",
    "for i in range(5):\n",
    "    line=input('enter a line')\n",
    "    fout.write(line + '\\n')\n",
    "    \n",
    "print('file writing over!!')\n",
    "fout.close()"
   ]
  },
  {
   "cell_type": "code",
   "execution_count": 24,
   "metadata": {},
   "outputs": [],
   "source": [
    "#Write a program to count the number of character,number of words,and number of lines\n",
    "#write a prgram to search n print all the lines starting with the specific world in the file?"
   ]
  },
  {
   "cell_type": "code",
   "execution_count": 6,
   "metadata": {},
   "outputs": [
    {
     "name": "stdout",
     "output_type": "stream",
     "text": [
      "Enter a file namevishal.txt\n",
      "Number of line= 6\n",
      "Number of word= 25\n",
      "Number of characters= 106\n"
     ]
    }
   ],
   "source": [
    "file=input('Enter a file name')\n",
    "try:\n",
    "    fhand=open(file)\n",
    "except:\n",
    "    print('file not found')\n",
    "    exit(0)\n",
    "    \n",
    "linecount=0\n",
    "wordcount=0\n",
    "charcount=0\n",
    "for line in fhand:\n",
    "    linecount+=1\n",
    "    charcount+=len(line)\n",
    "    ls=line.split()\n",
    "    wordcount+=len(ls)\n",
    "    \n",
    "print('Number of line=',linecount)\n",
    "print('Number of word=',wordcount)\n",
    "print('Number of characters=',charcount)\n",
    "fhand.close()"
   ]
  },
  {
   "cell_type": "code",
   "execution_count": 10,
   "metadata": {},
   "outputs": [
    {
     "name": "stdout",
     "output_type": "stream",
     "text": [
      "enter a file name:vishal.txt\n",
      "enter a word to be searchedhello\n",
      "File can not be opened\n"
     ]
    }
   ],
   "source": [
    "file=input('enter a file name:')\n",
    "word=input('enter a word to be searched')\n",
    "\n",
    "try:\n",
    "    fhand=open(file)\n",
    "    for line in fhand:\n",
    "        if line.startwith(word):\n",
    "            print(line)\n",
    "            \n",
    "    fhand.close()\n",
    "    \n",
    "except:\n",
    "    print('File can not be opened')"
   ]
  },
  {
   "cell_type": "code",
   "execution_count": null,
   "metadata": {},
   "outputs": [],
   "source": [
    "import os,sys\n",
    "fname=input('enter a file name')\n",
    "if os.path.isfile(fname):\n",
    "    print('File exists',fname)\n",
    "    f=open(fname)\n",
    "else:\n",
    "    print(\"file not exist\",fname)\n",
    "    sys.exit()\n",
    "lcount=wcount=chcount=0\n",
    "for line in f:\n",
    "    lcount=lcount+1\n",
    "    chcount=chcount+len(line)\n",
    "    words=line.split()\n",
    "    wcount=wcount+len(words)\n",
    "                   \n",
    "print(\"the number of line is:\",lcount)\n",
    "print('the count of chs is ' , chcount)\n",
    "print('the count of word is', wcount)\n",
    "\n",
    " "
   ]
  },
  {
   "cell_type": "code",
   "execution_count": 6,
   "metadata": {},
   "outputs": [
    {
     "name": "stdout",
     "output_type": "stream",
     "text": [
      "enter a file name:vishal.txt\n",
      "\n",
      "first 10 lines are:\n",
      "with open('abcd.py','r') as f:\n",
      "cc=f.readlines()[-4:]\n",
      "for line in cc:\n",
      "print(line)\n",
      "had dinner or not?\n",
      "yes just 10 min before?\n",
      "Hello hi mam how r u?\n",
      "#fitness\n",
      "$usd\n",
      "*beatpuch \n",
      "usa is love\n",
      "with open('abcd.py','r') as f:\n",
      "\n",
      "last 10 lines are\n",
      "hello how are you?\n",
      "i am fine\n",
      "wat about u?\n",
      "had dinner or not?\n",
      "yes just 10 min before?\n",
      "Hello hi mam how r u?\n",
      "#fitness\n",
      "$usd\n",
      "*beatpuch \n",
      "usa is love\n",
      "with open('abcd.py','r') as f:\n",
      "cc=f.readlines()[-4:]\n"
     ]
    },
    {
     "data": {
      "text/plain": [
       "<function TextIOWrapper.close()>"
      ]
     },
     "execution_count": 6,
     "metadata": {},
     "output_type": "execute_result"
    }
   ],
   "source": [
    "#que=write a program to print 1st 10 and last 10 lines of a file???\n",
    "file=input(\"enter a file name:\")\n",
    "\n",
    "try:\n",
    "    fhand=open(file)\n",
    "except:\n",
    "    print(\"file not found\")\n",
    "    exit(0)\n",
    "    \n",
    "s=fhand.read()     #s stores whole file contents\n",
    "ls=s.split('\\n')    # spltit s based on new line character\n",
    "\n",
    "print('\\nfirst 10 lines are:')\n",
    "for i in ls[10:]:\n",
    "    print(i)\n",
    "    \n",
    "print('\\nlast 10 lines are')\n",
    "for i in ls[:-10]:\n",
    "    print(i)\n",
    "    \n",
    "fhand1.close\n",
    "    "
   ]
  },
  {
   "cell_type": "code",
   "execution_count": 2,
   "metadata": {},
   "outputs": [],
   "source": [
    "#que=write a program to copy contents of 1 file into another file???\n",
    "with open(\"vishal.txt\") as f:\n",
    "    with open(\"outup1.txt\", \"w\") as f1:\n",
    "        for line in f:\n",
    "            f1.write(line)"
   ]
  },
  {
   "cell_type": "code",
   "execution_count": null,
   "metadata": {},
   "outputs": [],
   "source": [
    "#que=write a program to copy contents of 1 file into another file??? ANother way>????\n",
    "file=input(\"enter a file name:\")\n",
    "\n",
    "try:\n",
    "    fhand1=open(file)\n",
    "except:\n",
    "    print(\"file not found\")\n",
    "    exit(0)\n",
    "    \n",
    "fhand2=open('newsource.txt', 'w')\n",
    "for line in fhand1:\n",
    "    fhand2.write(line)\n",
    "\n",
    "print('file copied successfully')\n",
    "\n",
    "fhand1.close\n",
    "fhand2.close"
   ]
  },
  {
   "cell_type": "code",
   "execution_count": null,
   "metadata": {},
   "outputs": [],
   "source": []
  }
 ],
 "metadata": {
  "kernelspec": {
   "display_name": "Python 3",
   "language": "python",
   "name": "python3"
  },
  "language_info": {
   "codemirror_mode": {
    "name": "ipython",
    "version": 3
   },
   "file_extension": ".py",
   "mimetype": "text/x-python",
   "name": "python",
   "nbconvert_exporter": "python",
   "pygments_lexer": "ipython3",
   "version": "3.7.1"
  }
 },
 "nbformat": 4,
 "nbformat_minor": 2
}
