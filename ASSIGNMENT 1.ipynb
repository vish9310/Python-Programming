{
 "cells": [
  {
   "cell_type": "code",
   "execution_count": 1,
   "metadata": {},
   "outputs": [],
   "source": [
    "import re"
   ]
  },
  {
   "cell_type": "markdown",
   "metadata": {},
   "source": [
    "# Create a dictionary IP_Count where each key-value pair is IP-Address and its frequency in the entire file."
   ]
  },
  {
   "cell_type": "code",
   "execution_count": 28,
   "metadata": {},
   "outputs": [
    {
     "name": "stdout",
     "output_type": "stream",
     "text": [
      "{'10.128.2.1': 4257, '10.131.2.1': 1626, '10.130.2.1': 4056, '10.129.2.1': 1652, '10.131.0.1': 4198}\n"
     ]
    }
   ],
   "source": [
    "fhand = open(\"weblog.txt\",\"r\")\n",
    "ls1 = []\n",
    "for line in fhand:\n",
    "    line = line.rstrip()\n",
    "    ip_address = re.findall(\"\\d+.\\d{3}.\\d.\\d\",line)\n",
    "    ls1.extend(ip_address)\n",
    "    \n",
    "   \n",
    "dict1={}\n",
    "for ip in ls1:\n",
    "    dict1[ip]=ls1.count(ip)\n",
    "print(dict1)\n",
    "fhand.close()"
   ]
  },
  {
   "cell_type": "markdown",
   "metadata": {},
   "source": [
    "# Create a dictionary Daily_Stats where each key-value pair is Date (string containing only the date, without time) and number of actions carried out on that day."
   ]
  },
  {
   "cell_type": "code",
   "execution_count": 39,
   "metadata": {},
   "outputs": [
    {
     "name": "stdout",
     "output_type": "stream",
     "text": [
      "{'29/Nov/2017': 580, '30/Nov/2017': 2991, '01/Dec/2017': 468, '02/Dec/2017': 168, '03/Dec/2017': 105, '07/Nov/2017': 2, '08/Nov/2017': 106, '09/Nov/2017': 236, '10/Nov/2017': 64, '11/Nov/2017': 286, '12/Nov/2017': 338, '13/Nov/2017': 230, '14/Nov/2017': 150, '15/Nov/2017': 78, '16/Nov/2017': 384, '17/Nov/2017': 481, '18/Nov/2017': 96, '19/Nov/2017': 164, '20/Nov/2017': 58, '21/Nov/2017': 47, '22/Nov/2017': 60, '23/Nov/2017': 380, '24/Nov/2017': 94, '25/Nov/2017': 250, '26/Nov/2017': 179, '12/Dec/2017': 86, '13/Dec/2017': 133, '14/Dec/2017': 165, '15/Dec/2017': 100, '16/Dec/2017': 155, '17/Dec/2017': 92, '18/Dec/2017': 178, '19/Dec/2017': 55, '20/Dec/2017': 98, '21/Dec/2017': 72, '22/Dec/2017': 11, '23/Dec/2017': 43, '16/Jan/2018': 76, '17/Jan/2018': 29, '18/Jan/2018': 63, '29/Jan/2018': 5092, '15/Feb/2018': 20, '16/Feb/2018': 33, '17/Feb/2018': 65, '18/Feb/2018': 34, '19/Feb/2018': 32, '20/Feb/2018': 62, '21/Feb/2018': 110, '22/Feb/2018': 231, '23/Feb/2018': 127, '24/Feb/2018': 15, '25/Feb/2018': 139, '26/Feb/2018': 98, '27/Feb/2018': 83, '28/Feb/2018': 123, '01/Mar/2018': 31, '02/Mar/2018': 143}\n"
     ]
    }
   ],
   "source": [
    "fhand = open(\"weblog.txt\",\"r\") \n",
    "ls2 = [] \n",
    "for line in fhand:\n",
    "    line = line.rstrip()\n",
    "    date = re.findall(\"\\d{2}/[a-zA-Z]{3}/\\d{4}\",line)\n",
    "    ls2.extend(date)\n",
    "    \n",
    "dict2={}\n",
    "for date in ls2:\n",
    "    dict2[date]=ls2.count(date)\n",
    "    \n",
    "print(dict2)"
   ]
  },
  {
   "cell_type": "markdown",
   "metadata": {},
   "source": [
    "# Display the URL which has been accessed (either for submit or upload) for most number of times."
   ]
  },
  {
   "cell_type": "code",
   "execution_count": 58,
   "metadata": {},
   "outputs": [
    {
     "name": "stdout",
     "output_type": "stream",
     "text": [
      "/login.php 3298\n"
     ]
    }
   ],
   "source": [
    "fhand = open(\"weblog.txt\",\"r\")\n",
    "ls3 = []\n",
    "for line in fhand:\n",
    "    line = line.rstrip()\n",
    "    url = line.split()[3] \n",
    "    ls3.append(url)\n",
    "max_dict={}  \n",
    "for url in ls3:\n",
    "    max_dict[url] = ls3.count(url)\n",
    "    \n",
    "maximum = max(max_dict, key=max_dict.get) \n",
    "print(maximum, max_dict[maximum])"
   ]
  },
  {
   "cell_type": "markdown",
   "metadata": {},
   "source": [
    "# Display the total count of HTTP GET requests and HTTP POST requests."
   ]
  },
  {
   "cell_type": "code",
   "execution_count": 63,
   "metadata": {},
   "outputs": [
    {
     "name": "stdout",
     "output_type": "stream",
     "text": [
      "{'HTTP_GET_COUNT_IS': 15098, 'HTTP_POST_COUNT_IS': 682}\n"
     ]
    }
   ],
   "source": [
    "fhand = open(\"weblog.txt\",\"r\")\n",
    "count=0    \n",
    "ls4 = []\n",
    "ls5 = []\n",
    "for line in fhand:\n",
    "    line = line.rstrip()\n",
    "    stat_get = re.findall(\"GET\",line)\n",
    "    stat_post = re.findall(\"POST\",line)\n",
    "    ls4.extend(stat_get)\n",
    "    ls5.extend(stat_post)\n",
    "    \n",
    "count_dict = {\"HTTP_GET_COUNT_IS\":len(ls4),\"HTTP_POST_COUNT_IS\":len(ls5)}\n",
    "print(count_dict)\n",
    "      "
   ]
  },
  {
   "cell_type": "markdown",
   "metadata": {},
   "source": [
    "# Create a dictionary Status_Code where key is the status code, and value is a tuple consisting of a string stating meaning of the code and a number indicating the frequency of that code in the file."
   ]
  },
  {
   "cell_type": "code",
   "execution_count": 79,
   "metadata": {},
   "outputs": [
    {
     "data": {
      "text/plain": [
       "{'200': ('Success', 11330),\n",
       " '302': ('Requested temporarily moved', 3498),\n",
       " '304': ('File Not Modified', 658),\n",
       " '206': ('Partial content processed', 52),\n",
       " '404': ('File Not Found', 251)}"
      ]
     },
     "execution_count": 79,
     "metadata": {},
     "output_type": "execute_result"
    }
   ],
   "source": [
    "fhand = open(\"weblog.txt\",\"r\")\n",
    "ls6 = []\n",
    "for line in fhand:\n",
    "    line = line.rstrip()\n",
    "    status = re.findall(\"\\d+$\",line)\n",
    "    ls6.extend(status)\n",
    "    \n",
    "Status_Code_Final={}\n",
    "for code in ls6:\n",
    "    if code=='200':\n",
    "        Status_Code_Final[code]=(\"Success\",ls6.count(code))\n",
    "    elif code=='302':\n",
    "        Status_Code_Final[code]=(\"Requested temporarily moved\",ls6.count(code))\n",
    "    elif code=='404':\n",
    "        Status_Code_Final[code]=(\"File Not Found\",ls6.count(code))\n",
    "    elif code=='304':\n",
    "        Status_Code_Final[code]=(\"File Not Modified\",ls6.count(code))\n",
    "    else:\n",
    "        Status_Code_Final[code]=(\"Partial content processed\",ls6.count(code))\n",
    "Status_Code_Final"
   ]
  },
  {
   "cell_type": "markdown",
   "metadata": {},
   "source": [
    "# Create a histogram (list of tuples) indicating number of actions carried out in an hour of a day. For example [(8, 12), (15, 3)] indicates, there are 12 transactions between 8am to 8:59am, there are 3 transactions between 3pm to 3:59pm (because 15 means 3pm)."
   ]
  },
  {
   "cell_type": "code",
   "execution_count": 80,
   "metadata": {},
   "outputs": [
    {
     "name": "stdout",
     "output_type": "stream",
     "text": [
      "[(0, 118), (1, 53), (2, 48), (3, 164), (4, 246), (5, 283), (6, 575), (7, 313), (8, 284), (9, 187), (10, 138), (11, 255), (12, 732), (13, 766), (14, 581), (15, 1461), (16, 1169), (17, 754), (18, 734), (19, 847), (20, 5458), (21, 240), (22, 226), (23, 157)]\n"
     ]
    }
   ],
   "source": [
    "fhand = open(\"weblog.txt\",\"r\")\n",
    "list7 = [] #create a empty list\n",
    "for line in fhand:#getting each line from the file\n",
    "    line = line.rstrip()\n",
    "    stat1 = re.findall(\":(\\d{2}):\\d{2}:\\d{2}\",line)#finding out ip address\n",
    "    list7.extend(stat1)\n",
    "\n",
    "dic = {}\n",
    "for i in list7:\n",
    "    dic[i] = (int(i),list7.count(i))\n",
    "list8 = list(dic.values())  \n",
    "list8.sort()\n",
    "print(list8)"
   ]
  }
 ],
 "metadata": {
  "kernelspec": {
   "display_name": "Python 3",
   "language": "python",
   "name": "python3"
  },
  "language_info": {
   "codemirror_mode": {
    "name": "ipython",
    "version": 3
   },
   "file_extension": ".py",
   "mimetype": "text/x-python",
   "name": "python",
   "nbconvert_exporter": "python",
   "pygments_lexer": "ipython3",
   "version": "3.7.1"
  }
 },
 "nbformat": 4,
 "nbformat_minor": 2
}
