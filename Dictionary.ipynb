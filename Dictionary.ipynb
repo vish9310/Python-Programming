{
 "cells": [
  {
   "cell_type": "code",
   "execution_count": 5,
   "metadata": {},
   "outputs": [
    {
     "name": "stdout",
     "output_type": "stream",
     "text": [
      "<class 'dict'>\n"
     ]
    }
   ],
   "source": [
    "d={}\n",
    "print(type(d))"
   ]
  },
  {
   "cell_type": "code",
   "execution_count": 19,
   "metadata": {},
   "outputs": [
    {
     "name": "stdout",
     "output_type": "stream",
     "text": [
      "{'mango': 'fruit', 'banana': 'fruit', 'orange': 'fruit', 'cucumber': 'veg'}\n"
     ]
    }
   ],
   "source": [
    "d={}\n",
    "d[\"mango\"]='fruit'\n",
    "d[\"banana\"]='fruit'\n",
    "d[\"orange\"]='fruit'\n",
    "d[\"cucumber\"]='veg'\n",
    "print(d)"
   ]
  },
  {
   "cell_type": "code",
   "execution_count": 21,
   "metadata": {},
   "outputs": [
    {
     "data": {
      "text/plain": [
       "'fruit'"
      ]
     },
     "execution_count": 21,
     "metadata": {},
     "output_type": "execute_result"
    }
   ],
   "source": [
    "d[\"mango\"]"
   ]
  },
  {
   "cell_type": "code",
   "execution_count": 25,
   "metadata": {},
   "outputs": [
    {
     "name": "stdout",
     "output_type": "stream",
     "text": [
      "{'Fruit': 'banana', 'VEg': 'cucumber'}\n"
     ]
    }
   ],
   "source": [
    "d1={}\n",
    "d1[\"Fruit\"]='mango'\n",
    "d1[\"Fruit\"]='orange'\n",
    "d1[\"Fruit\"]='banana'\n",
    "d1[\"VEg\"]='cucumber'\n",
    "print(d1)\n"
   ]
  },
  {
   "cell_type": "code",
   "execution_count": 27,
   "metadata": {},
   "outputs": [
    {
     "name": "stdout",
     "output_type": "stream",
     "text": [
      "{'Tom': 3491, 'Jerry': 81350}\n"
     ]
    }
   ],
   "source": [
    "#to initialize a dictionary at the time of creation itself,one can use the code like=\n",
    "tel_dir={'Tom': 3491, 'Jerry':81350}\n",
    "print(tel_dir)"
   ]
  },
  {
   "cell_type": "code",
   "execution_count": 30,
   "metadata": {},
   "outputs": [
    {
     "name": "stdout",
     "output_type": "stream",
     "text": [
      "{'Tom': 3491, 'Jerry': 81350, 'Donald': 4793}\n",
      "Telephone number of Tom is: 3491\n"
     ]
    }
   ],
   "source": [
    "tel_dir['Donald']=4793\n",
    "print(tel_dir)\n",
    "print('Telephone number of Tom is:' , tel_dir['Tom'])"
   ]
  },
  {
   "cell_type": "code",
   "execution_count": 32,
   "metadata": {},
   "outputs": [
    {
     "ename": "KeyError",
     "evalue": "'vishal'",
     "output_type": "error",
     "traceback": [
      "\u001b[1;31m---------------------------------------------------------------------------\u001b[0m",
      "\u001b[1;31mKeyError\u001b[0m                                  Traceback (most recent call last)",
      "\u001b[1;32m<ipython-input-32-7c97935a8e6e>\u001b[0m in \u001b[0;36m<module>\u001b[1;34m\u001b[0m\n\u001b[1;32m----> 1\u001b[1;33m \u001b[0mprint\u001b[0m\u001b[1;33m(\u001b[0m\u001b[0mtel_dir\u001b[0m\u001b[1;33m[\u001b[0m\u001b[1;34m\"vishal\"\u001b[0m\u001b[1;33m]\u001b[0m\u001b[1;33m)\u001b[0m\u001b[1;33m\u001b[0m\u001b[1;33m\u001b[0m\u001b[0m\n\u001b[0m",
      "\u001b[1;31mKeyError\u001b[0m: 'vishal'"
     ]
    }
   ],
   "source": [
    "print(tel_dir[\"vishal\"])"
   ]
  },
  {
   "cell_type": "code",
   "execution_count": 36,
   "metadata": {},
   "outputs": [
    {
     "name": "stdout",
     "output_type": "stream",
     "text": [
      "{'Tom': 3491, 'Jerry': 81350, 'Donald': 4793}\n"
     ]
    },
    {
     "data": {
      "text/plain": [
       "3"
      ]
     },
     "execution_count": 36,
     "metadata": {},
     "output_type": "execute_result"
    }
   ],
   "source": [
    "print(tel_dir)\n",
    "len(tel_dir)"
   ]
  },
  {
   "cell_type": "code",
   "execution_count": 38,
   "metadata": {},
   "outputs": [
    {
     "data": {
      "text/plain": [
       "False"
      ]
     },
     "execution_count": 38,
     "metadata": {},
     "output_type": "execute_result"
    }
   ],
   "source": [
    "'vishal' in tel_dir"
   ]
  },
  {
   "cell_type": "code",
   "execution_count": 40,
   "metadata": {},
   "outputs": [
    {
     "data": {
      "text/plain": [
       "True"
      ]
     },
     "execution_count": 40,
     "metadata": {},
     "output_type": "execute_result"
    }
   ],
   "source": [
    "'Tom' in tel_dir"
   ]
  },
  {
   "cell_type": "code",
   "execution_count": 43,
   "metadata": {},
   "outputs": [
    {
     "data": {
      "text/plain": [
       "False"
      ]
     },
     "execution_count": 43,
     "metadata": {},
     "output_type": "execute_result"
    }
   ],
   "source": [
    "'3491' in tel_dir"
   ]
  },
  {
   "cell_type": "code",
   "execution_count": 49,
   "metadata": {},
   "outputs": [
    {
     "name": "stdout",
     "output_type": "stream",
     "text": [
      "81350\n",
      "not found\n"
     ]
    }
   ],
   "source": [
    "#Using get() function.\n",
    "tel_dir={'Tom': 3491, 'Jerry':81350 , 'Mickey':1253}\n",
    "print(tel_dir.get('Jerry',0))\n",
    "print(tel_dir.get('Vishal',\"not found\"))"
   ]
  },
  {
   "cell_type": "code",
   "execution_count": 1,
   "metadata": {},
   "outputs": [
    {
     "name": "stdout",
     "output_type": "stream",
     "text": [
      "enter a stringvishalupadhyay\n",
      "{'v': 1, 'i': 1, 's': 1, 'h': 2, 'a': 3, 'l': 1, 'u': 1, 'p': 1, 'd': 1, 'y': 2}\n"
     ]
    }
   ],
   "source": [
    "#write a prgrom to read a string or sentence?count number of occurences of each character in the string.Use dictionary.\n",
    "#Example:input string is \"hello\" then, output must be{'h':1 , 'e':1, 'l':2, 'o':1}?\n",
    "\n",
    "\n",
    "d={}\n",
    "s=input('enter a string')\n",
    "for ch in s:\n",
    "    d[ch]=d.get(ch,0)+1 \n",
    "print(d)"
   ]
  },
  {
   "cell_type": "code",
   "execution_count": 1,
   "metadata": {},
   "outputs": [
    {
     "name": "stdout",
     "output_type": "stream",
     "text": [
      "Enter a file namevishal.txt\n",
      "file not found\n"
     ]
    },
    {
     "ename": "NameError",
     "evalue": "name 'fhand' is not defined",
     "output_type": "error",
     "traceback": [
      "\u001b[1;31m---------------------------------------------------------------------------\u001b[0m",
      "\u001b[1;31mNameError\u001b[0m                                 Traceback (most recent call last)",
      "\u001b[1;32m<ipython-input-1-685ed9d9f5cd>\u001b[0m in \u001b[0;36m<module>\u001b[1;34m\u001b[0m\n\u001b[0;32m      9\u001b[0m     \u001b[0mexit\u001b[0m\u001b[1;33m(\u001b[0m\u001b[1;36m0\u001b[0m\u001b[1;33m)\u001b[0m\u001b[1;33m\u001b[0m\u001b[1;33m\u001b[0m\u001b[0m\n\u001b[0;32m     10\u001b[0m \u001b[1;33m\u001b[0m\u001b[0m\n\u001b[1;32m---> 11\u001b[1;33m \u001b[1;32mfor\u001b[0m \u001b[0mline\u001b[0m \u001b[1;32min\u001b[0m \u001b[0mfhand\u001b[0m\u001b[1;33m:\u001b[0m\u001b[1;33m\u001b[0m\u001b[1;33m\u001b[0m\u001b[0m\n\u001b[0m\u001b[0;32m     12\u001b[0m     \u001b[0mls\u001b[0m\u001b[1;33m=\u001b[0m\u001b[0mline\u001b[0m\u001b[1;33m.\u001b[0m\u001b[0msplit\u001b[0m\u001b[1;33m(\u001b[0m\u001b[1;33m)\u001b[0m\u001b[1;33m\u001b[0m\u001b[1;33m\u001b[0m\u001b[0m\n\u001b[0;32m     13\u001b[0m     \u001b[1;32mfor\u001b[0m \u001b[0mword\u001b[0m \u001b[1;32min\u001b[0m \u001b[0mls\u001b[0m\u001b[1;33m:\u001b[0m\u001b[1;33m\u001b[0m\u001b[1;33m\u001b[0m\u001b[0m\n",
      "\u001b[1;31mNameError\u001b[0m: name 'fhand' is not defined"
     ]
    }
   ],
   "source": [
    "#take a input from a file and count number of occurences of each character int th file?\n",
    "\n",
    "file=input('Enter a file name')\n",
    "word_occurance={}\n",
    "try:\n",
    "    fhand=open(file)\n",
    "except:\n",
    "    print('file not found')\n",
    "    exit(0)\n",
    "    \n",
    "for line in fhand:\n",
    "    ls=line.split()\n",
    "    for word in ls:\n",
    "        word_occurance[word]=word_occurance.get(word,0)+1\n",
    "    \n",
    "    \n",
    "    \n",
    "print(word_occurance)\n",
    "sorted_dict=list(word_occurance.keys())\n",
    "sorted_dict.sort()\n",
    "for i in sorted_dict:\n",
    "    print(i,word_occurance[i])\n",
    "    \n",
    "    "
   ]
  },
  {
   "cell_type": "code",
   "execution_count": 8,
   "metadata": {},
   "outputs": [
    {
     "name": "stdout",
     "output_type": "stream",
     "text": [
      "The list of keys: ['Aman', 'Jerry', 'Micke']\n",
      "Dictionary elements in alpabetical order:\n",
      "Aman 3491\n",
      "Jerry 81350\n",
      "Micke 1253\n"
     ]
    }
   ],
   "source": [
    "#displaying telephone directories in alphabetical order????\n",
    "tel_dir={'Aman': 3491, 'Jerry':81350, 'Micke':1253}\n",
    "ls=list(tel_dir.keys())\n",
    "print(\"The list of keys:\" , ls)\n",
    "\n",
    "ls.sort()\n",
    "\n",
    "print(\"Dictionary elements in alpabetical order:\")\n",
    "for k in ls:\n",
    "    print(k,tel_dir[k])"
   ]
  },
  {
   "cell_type": "markdown",
   "metadata": {},
   "source": [
    "# TEXT PARSING"
   ]
  },
  {
   "cell_type": "code",
   "execution_count": 9,
   "metadata": {},
   "outputs": [
    {
     "data": {
      "text/plain": [
       "'!\"#$%&\\'()*+,-./:;<=>?@[\\\\]^_`{|}~'"
      ]
     },
     "execution_count": 9,
     "metadata": {},
     "output_type": "execute_result"
    }
   ],
   "source": [
    "import string\n",
    "string.punctuation"
   ]
  },
  {
   "cell_type": "code",
   "execution_count": 16,
   "metadata": {},
   "outputs": [
    {
     "name": "stdout",
     "output_type": "stream",
     "text": [
      "enter the file namevishal.txt\n",
      "{'hello': 2, 'how': 2, 'are': 1, 'you': 1, 'i': 1, 'am': 1, 'fine': 1, 'wat': 1, 'about': 1, 'u': 2, 'had': 1, 'dinner': 1, 'or': 1, 'not': 1, 'yes': 1, 'just': 1, '10': 1, 'min': 1, 'before': 1, 'hi': 1, 'mam': 1, 'r': 1, 'fitness': 1, 'usd': 1, 'beatpuch': 1}\n"
     ]
    }
   ],
   "source": [
    "import string\n",
    "fname=input('enter the file name')\n",
    "try:\n",
    "    fhand=open(fname)\n",
    "except:\n",
    "    print('file cannot be opened')\n",
    "    exit()\n",
    "\n",
    "d=dict()\n",
    "for line in fhand:\n",
    "    line=line.rstrip()\n",
    "    line=line.translate(line.maketrans('','',string.punctuation))\n",
    "    line=line.lower()\n",
    "    for word in line.split():\n",
    "        d[word]=d.get(word,0)+1\n",
    "        \n",
    "        \n",
    "print(d)\n",
    "    "
   ]
  },
  {
   "cell_type": "code",
   "execution_count": 10,
   "metadata": {},
   "outputs": [],
   "source": [
    "#que=define the python function accending which take any argumnet list that returns true if each element in its list atleast as big as one before"
   ]
  },
  {
   "cell_type": "code",
   "execution_count": 34,
   "metadata": {},
   "outputs": [
    {
     "data": {
      "text/plain": [
       "True"
      ]
     },
     "execution_count": 34,
     "metadata": {},
     "output_type": "execute_result"
    }
   ],
   "source": [
    "def accending(list):\n",
    "        for i in range (len(list)-1):\n",
    "            if list[i]>list[i+1]:\n",
    "                return False\n",
    "return True\n",
    "list=[1,3,1,7]"
   ]
  },
  {
   "cell_type": "code",
   "execution_count": 41,
   "metadata": {},
   "outputs": [
    {
     "data": {
      "text/plain": [
       "False"
      ]
     },
     "execution_count": 41,
     "metadata": {},
     "output_type": "execute_result"
    }
   ],
   "source": [
    "d1={\"john\":40,\"peter\":45}\n",
    "d2={\"john\":466,\"peter\":45}\n",
    "d1==d2"
   ]
  },
  {
   "cell_type": "code",
   "execution_count": 48,
   "metadata": {},
   "outputs": [
    {
     "ename": "KeyError",
     "evalue": "'john'",
     "output_type": "error",
     "traceback": [
      "\u001b[1;31m---------------------------------------------------------------------------\u001b[0m",
      "\u001b[1;31mKeyError\u001b[0m                                  Traceback (most recent call last)",
      "\u001b[1;32m<ipython-input-48-caa14fd59429>\u001b[0m in \u001b[0;36m<module>\u001b[1;34m\u001b[0m\n\u001b[0;32m      1\u001b[0m \u001b[0md1\u001b[0m\u001b[1;33m=\u001b[0m\u001b[1;33m{\u001b[0m\u001b[1;34m\"john\"\u001b[0m\u001b[1;33m:\u001b[0m\u001b[1;36m40\u001b[0m\u001b[1;33m,\u001b[0m\u001b[1;34m\"peter\"\u001b[0m\u001b[1;33m:\u001b[0m\u001b[1;36m45\u001b[0m\u001b[1;33m}\u001b[0m\u001b[1;33m\u001b[0m\u001b[1;33m\u001b[0m\u001b[0m\n\u001b[1;32m----> 2\u001b[1;33m \u001b[1;32mdel\u001b[0m \u001b[0md\u001b[0m\u001b[1;33m[\u001b[0m\u001b[1;34m\"john\"\u001b[0m\u001b[1;33m]\u001b[0m\u001b[1;33m\u001b[0m\u001b[1;33m\u001b[0m\u001b[0m\n\u001b[0m",
      "\u001b[1;31mKeyError\u001b[0m: 'john'"
     ]
    }
   ],
   "source": [
    "d1={\"john\":40,\"peter\":45}\n",
    "del d[\"john\"]"
   ]
  },
  {
   "cell_type": "code",
   "execution_count": null,
   "metadata": {},
   "outputs": [],
   "source": []
  }
 ],
 "metadata": {
  "kernelspec": {
   "display_name": "Python 3",
   "language": "python",
   "name": "python3"
  },
  "language_info": {
   "codemirror_mode": {
    "name": "ipython",
    "version": 3
   },
   "file_extension": ".py",
   "mimetype": "text/x-python",
   "name": "python",
   "nbconvert_exporter": "python",
   "pygments_lexer": "ipython3",
   "version": "3.7.1"
  }
 },
 "nbformat": 4,
 "nbformat_minor": 2
}
