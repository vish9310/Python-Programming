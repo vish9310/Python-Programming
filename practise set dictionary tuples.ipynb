{
 "cells": [
  {
   "cell_type": "code",
   "execution_count": 5,
   "metadata": {},
   "outputs": [
    {
     "name": "stdout",
     "output_type": "stream",
     "text": [
      "<class 'set'>\n",
      "{40, 10, 11, 80, 50, 20, 55, 60, 30}\n"
     ]
    }
   ],
   "source": [
    "s={10,20,30,40,50,60,80,11,55,10,11}\n",
    "print(type(s))\n",
    "print(s)"
   ]
  },
  {
   "cell_type": "code",
   "execution_count": 7,
   "metadata": {},
   "outputs": [
    {
     "name": "stdout",
     "output_type": "stream",
     "text": [
      "{10, 20, 30, 300}\n"
     ]
    }
   ],
   "source": [
    "l=[10,10,10,20,20,20,30,30,300]\n",
    "l1=set(l)\n",
    "print(l1)"
   ]
  },
  {
   "cell_type": "code",
   "execution_count": 13,
   "metadata": {},
   "outputs": [
    {
     "name": "stdout",
     "output_type": "stream",
     "text": [
      "{0, 1, 2, 3, 4, 5, 6, 7, 8, 9}\n"
     ]
    }
   ],
   "source": [
    "s=set(range(10))\n",
    "print(s)"
   ]
  },
  {
   "cell_type": "code",
   "execution_count": 18,
   "metadata": {},
   "outputs": [
    {
     "data": {
      "text/plain": [
       "set"
      ]
     },
     "execution_count": 18,
     "metadata": {},
     "output_type": "execute_result"
    }
   ],
   "source": [
    "t={()}\n",
    "type(t)"
   ]
  },
  {
   "cell_type": "code",
   "execution_count": 23,
   "metadata": {},
   "outputs": [
    {
     "name": "stdout",
     "output_type": "stream",
     "text": [
      "{40, 10, 20, 30}\n"
     ]
    }
   ],
   "source": [
    "s={10,20,30}     #adding element in set\n",
    "s1=s.add(40)\n",
    "print(s)"
   ]
  },
  {
   "cell_type": "code",
   "execution_count": 28,
   "metadata": {},
   "outputs": [
    {
     "name": "stdout",
     "output_type": "stream",
     "text": [
      "{0, 1, 2, 3, 4, 40, 8, 10, 9, 50, 20, 30}\n"
     ]
    }
   ],
   "source": [
    "s={10,20,30,50,40}      #adding two elements in set\n",
    "l=[8,9,10]\n",
    "s1=s.update(l,range(5))\n",
    "print(s)"
   ]
  },
  {
   "cell_type": "code",
   "execution_count": 30,
   "metadata": {},
   "outputs": [
    {
     "name": "stdout",
     "output_type": "stream",
     "text": [
      "{10, 20, 30}\n"
     ]
    }
   ],
   "source": [
    "s1=s.copy()              #pop in set\n",
    "print(s1)"
   ]
  },
  {
   "cell_type": "code",
   "execution_count": 37,
   "metadata": {},
   "outputs": [
    {
     "name": "stdout",
     "output_type": "stream",
     "text": [
      "{20, 110, 30}\n"
     ]
    }
   ],
   "source": [
    "s={1,110,20,30}     #pop in set\n",
    "s1=s.pop()\n",
    "print(s)"
   ]
  },
  {
   "cell_type": "code",
   "execution_count": 42,
   "metadata": {},
   "outputs": [
    {
     "name": "stdout",
     "output_type": "stream",
     "text": [
      "{10, 20, 30}\n"
     ]
    }
   ],
   "source": [
    "s={10,20,30,55}     #remove in set\n",
    "s1=s.remove(55)\n",
    "print(s)"
   ]
  },
  {
   "cell_type": "code",
   "execution_count": 45,
   "metadata": {},
   "outputs": [
    {
     "name": "stdout",
     "output_type": "stream",
     "text": [
      "{20, 30}\n"
     ]
    }
   ],
   "source": [
    "s={10,20,30}      #discard in set\n",
    "s1=s.discard(10)\n",
    "print(s)"
   ]
  },
  {
   "cell_type": "code",
   "execution_count": 47,
   "metadata": {},
   "outputs": [
    {
     "name": "stdout",
     "output_type": "stream",
     "text": [
      "set()\n"
     ]
    }
   ],
   "source": [
    "s={10,20,30}      #clear in set\n",
    "s1=s.clear()\n",
    "print(s)"
   ]
  },
  {
   "cell_type": "code",
   "execution_count": 49,
   "metadata": {},
   "outputs": [
    {
     "data": {
      "text/plain": [
       "dict"
      ]
     },
     "execution_count": 49,
     "metadata": {},
     "output_type": "execute_result"
    }
   ],
   "source": [
    "#Dictionary \n",
    "\n",
    "\n",
    "\n",
    "d={}\n",
    "type(d)"
   ]
  },
  {
   "cell_type": "code",
   "execution_count": 63,
   "metadata": {},
   "outputs": [
    {
     "name": "stdout",
     "output_type": "stream",
     "text": [
      "{100: 'vos'}\n"
     ]
    }
   ],
   "source": [
    "d[100]='vos'     #keys:value\n",
    "print(d)"
   ]
  },
  {
   "cell_type": "code",
   "execution_count": 70,
   "metadata": {},
   "outputs": [
    {
     "name": "stdout",
     "output_type": "stream",
     "text": [
      "enter number of students2\n",
      "please enter student nameh\n",
      "please enter marks5\n",
      "please enter student namek\n",
      "please enter marks2\n",
      "Name of student \t %marks \n",
      "\t g \t\t 5\n"
     ]
    }
   ],
   "source": [
    "#Q. Write a program to enter name and percentage marks in a dictionary and display information on the screen?\n",
    "\n",
    "rec={}\n",
    "rec[name]=marks\n",
    "x=int(input(\"enter number of students\"))\n",
    "i=1\n",
    "while i<=x:\n",
    "    name=input('please enter student name')\n",
    "    marks=input('please enter marks')\n",
    "    i=i+1\n",
    "    print(\"Name of student\",\"\\t\",\"%marks \")\n",
    "for x in rec:\n",
    "    print(\"\\t\",x,\"\\t\\t\",rec[x])"
   ]
  },
  {
   "cell_type": "code",
   "execution_count": 2,
   "metadata": {},
   "outputs": [
    {
     "name": "stdout",
     "output_type": "stream",
     "text": [
      "{100: 'satyam', 200: 'vishal', 300: 'aalloo'}\n"
     ]
    }
   ],
   "source": [
    "d={100:\n",
    "   \"durga\",200:\"vishal\"}\n",
    "d[100]=\"satyam\"\n",
    "d[300]=\"aalloo\"\n",
    "print(d)"
   ]
  },
  {
   "cell_type": "code",
   "execution_count": null,
   "metadata": {},
   "outputs": [],
   "source": [
    "d=eval(input(\"Enter Dictionary\"))\n",
    "s=sum(d.values())\n",
    "print(\"sum=\",s)"
   ]
  },
  {
   "cell_type": "code",
   "execution_count": null,
   "metadata": {},
   "outputs": [],
   "source": []
  }
 ],
 "metadata": {
  "kernelspec": {
   "display_name": "Python 3",
   "language": "python",
   "name": "python3"
  },
  "language_info": {
   "codemirror_mode": {
    "name": "ipython",
    "version": 3
   },
   "file_extension": ".py",
   "mimetype": "text/x-python",
   "name": "python",
   "nbconvert_exporter": "python",
   "pygments_lexer": "ipython3",
   "version": "3.7.1"
  }
 },
 "nbformat": 4,
 "nbformat_minor": 2
}
