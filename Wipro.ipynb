{
 "cells": [
  {
   "cell_type": "code",
   "execution_count": 5,
   "metadata": {},
   "outputs": [
    {
     "ename": "ModuleNotFoundError",
     "evalue": "No module named 'acitoolkit'",
     "output_type": "error",
     "traceback": [
      "\u001b[1;31m---------------------------------------------------------------------------\u001b[0m",
      "\u001b[1;31mModuleNotFoundError\u001b[0m                       Traceback (most recent call last)",
      "\u001b[1;32m<ipython-input-5-58aaefa90a55>\u001b[0m in \u001b[0;36m<module>\u001b[1;34m\u001b[0m\n\u001b[0;32m      2\u001b[0m \u001b[1;32mimport\u001b[0m \u001b[0mlogging\u001b[0m\u001b[1;33m\u001b[0m\u001b[1;33m\u001b[0m\u001b[0m\n\u001b[0;32m      3\u001b[0m \u001b[1;32mimport\u001b[0m \u001b[0mjson\u001b[0m\u001b[1;33m\u001b[0m\u001b[1;33m\u001b[0m\u001b[0m\n\u001b[1;32m----> 4\u001b[1;33m \u001b[1;32mfrom\u001b[0m \u001b[0macitoolkit\u001b[0m\u001b[1;33m.\u001b[0m\u001b[0macitoolkit\u001b[0m \u001b[1;32mimport\u001b[0m \u001b[0mTenant\u001b[0m\u001b[1;33m,\u001b[0m \u001b[0mContext\u001b[0m\u001b[1;33m,\u001b[0m \u001b[0mBridgeDomain\u001b[0m\u001b[1;33m,\u001b[0m \u001b[0mAppProfile\u001b[0m\u001b[1;33m,\u001b[0m \u001b[0mPhysDomain\u001b[0m\u001b[1;33m\u001b[0m\u001b[1;33m\u001b[0m\u001b[0m\n\u001b[0m\u001b[0;32m      5\u001b[0m \u001b[1;32mfrom\u001b[0m \u001b[0macitoolkit\u001b[0m\u001b[1;33m.\u001b[0m\u001b[0macitoolkit\u001b[0m \u001b[1;32mimport\u001b[0m \u001b[0mEPG\u001b[0m\u001b[1;33m,\u001b[0m \u001b[0mInterface\u001b[0m\u001b[1;33m,\u001b[0m \u001b[0mL2Interface\u001b[0m\u001b[1;33m,\u001b[0m \u001b[0mEPGDomain\u001b[0m\u001b[1;33m,\u001b[0m \u001b[0mSession\u001b[0m\u001b[1;33m,\u001b[0m \u001b[0mNetworkPool\u001b[0m\u001b[1;33m\u001b[0m\u001b[1;33m\u001b[0m\u001b[0m\n",
      "\u001b[1;31mModuleNotFoundError\u001b[0m: No module named 'acitoolkit'"
     ]
    }
   ],
   "source": [
    "import sys\n",
    "import logging\n",
    "import json\n",
    "from acitoolkit.acitoolkit import Tenant, Context, BridgeDomain, AppProfile, PhysDomain\n",
    "from acitoolkit.acitoolkit import EPG, Interface, L2Interface, EPGDomain, Session, NetworkPool"
   ]
  },
  {
   "cell_type": "code",
   "execution_count": 2,
   "metadata": {},
   "outputs": [
    {
     "name": "stdout",
     "output_type": "stream",
     "text": [
      "Collecting acitoolkit\n",
      "  Downloading https://files.pythonhosted.org/packages/2f/7a/6bfafc568c2c18bdfd2b8dbc8e7405975068089cab289bf847e0ba26ec7d/acitoolkit-0.4.tar.gz (121kB)\n",
      "Requirement already satisfied: requests in c:\\users\\lenovo\\anaconda3\\lib\\site-packages (from acitoolkit) (2.21.0)\n",
      "Collecting websocket-client>0.33.0 (from acitoolkit)\n",
      "  Downloading https://files.pythonhosted.org/packages/29/19/44753eab1fdb50770ac69605527e8859468f3c0fd7dc5a76dd9c4dbd7906/websocket_client-0.56.0-py2.py3-none-any.whl (200kB)\n",
      "Collecting gitpython (from acitoolkit)\n",
      "  Downloading https://files.pythonhosted.org/packages/ff/f8/05f58bd7852dad7edcf70a8de953b4fa39f61cdc13812ae62118be6ffa23/GitPython-3.0.3-py3-none-any.whl (453kB)\n",
      "Collecting flask-httpauth (from acitoolkit)\n",
      "  Downloading https://files.pythonhosted.org/packages/b9/fd/89fc9aa163b5a7aa809fac0835502c2b66f48a5114a73df7e2a104cc645f/Flask_HTTPAuth-3.3.0-py2.py3-none-any.whl\n",
      "Collecting flask-sqlalchemy (from acitoolkit)\n",
      "  Downloading https://files.pythonhosted.org/packages/1e/65/226d95466c75e34e291a76890ed0e27af2e46ab913002847856f11d4d59d/Flask_SQLAlchemy-2.4.1-py2.py3-none-any.whl\n",
      "Collecting flask-admin (from acitoolkit)\n",
      "  Downloading https://files.pythonhosted.org/packages/c3/bc/4cb71a88d8b0d478ed7f46e7bba632e988daae5ae07ce5413a31acbe8166/Flask-Admin-1.5.3.tar.gz (1.7MB)\n",
      "Collecting flask-bootstrap (from acitoolkit)\n",
      "  Downloading https://files.pythonhosted.org/packages/88/53/958ce7c2aa26280b7fd7f3eecbf13053f1302ee2acb1db58ef32e1c23c2a/Flask-Bootstrap-3.3.7.1.tar.gz (456kB)\n",
      "Collecting flask-wtf (from acitoolkit)\n",
      "  Downloading https://files.pythonhosted.org/packages/60/3a/58c629472d10539ae5167dc7c1fecfa95dd7d0b7864623931e3776438a24/Flask_WTF-0.14.2-py2.py3-none-any.whl\n",
      "Requirement already satisfied: flask-cors in c:\\users\\lenovo\\anaconda3\\lib\\site-packages (from acitoolkit) (3.0.7)\n",
      "Requirement already satisfied: flask in c:\\users\\lenovo\\anaconda3\\lib\\site-packages (from acitoolkit) (1.0.2)\n",
      "Collecting pymysql (from acitoolkit)\n",
      "  Downloading https://files.pythonhosted.org/packages/ed/39/15045ae46f2a123019aa968dfcba0396c161c20f855f11dea6796bcaae95/PyMySQL-0.9.3-py2.py3-none-any.whl (47kB)\n",
      "Requirement already satisfied: tabulate in c:\\users\\lenovo\\anaconda3\\lib\\site-packages (from acitoolkit) (0.8.3)\n",
      "Collecting py-radix (from acitoolkit)\n",
      "  Downloading https://files.pythonhosted.org/packages/bf/4e/47d9e7f4dfd0630662e19d2cc1b2f1d307ec52df11f4a66f6ed6f0cce138/py-radix-0.10.0.tar.gz\n",
      "Requirement already satisfied: jsonschema in c:\\users\\lenovo\\anaconda3\\lib\\site-packages (from acitoolkit) (2.6.0)\n",
      "Collecting graphviz (from acitoolkit)\n",
      "  Downloading https://files.pythonhosted.org/packages/94/cd/7b37f2b658995033879719e1ea4c9f171bf7a14c16b79220bd19f9eda3fe/graphviz-0.13-py2.py3-none-any.whl\n",
      "Collecting ipaddress (from acitoolkit)\n",
      "  Downloading https://files.pythonhosted.org/packages/fc/d0/7fc3a811e011d4b388be48a0e381db8d990042df54aa4ef4599a31d39853/ipaddress-1.0.22-py2.py3-none-any.whl\n",
      "Collecting deepdiff (from acitoolkit)\n",
      "  Downloading https://files.pythonhosted.org/packages/6b/4a/d678aed54eb5b2632e642c732cba2fac331209092031864f4bf06db78a43/deepdiff-4.0.7-py3-none-any.whl (47kB)\n",
      "Requirement already satisfied: idna<2.9,>=2.5 in c:\\users\\lenovo\\anaconda3\\lib\\site-packages (from requests->acitoolkit) (2.8)\n",
      "Requirement already satisfied: urllib3<1.25,>=1.21.1 in c:\\users\\lenovo\\anaconda3\\lib\\site-packages (from requests->acitoolkit) (1.24.1)\n",
      "Requirement already satisfied: certifi>=2017.4.17 in c:\\users\\lenovo\\anaconda3\\lib\\site-packages (from requests->acitoolkit) (2018.11.29)\n",
      "Requirement already satisfied: chardet<3.1.0,>=3.0.2 in c:\\users\\lenovo\\anaconda3\\lib\\site-packages (from requests->acitoolkit) (3.0.4)\n",
      "Requirement already satisfied: six in c:\\users\\lenovo\\anaconda3\\lib\\site-packages (from websocket-client>0.33.0->acitoolkit) (1.12.0)\n",
      "Collecting gitdb2>=2.0.0 (from gitpython->acitoolkit)\n",
      "  Downloading https://files.pythonhosted.org/packages/03/6c/99296f89bad2ef85626e1df9f677acbee8885bb043ad82ad3ed4746d2325/gitdb2-2.0.6-py2.py3-none-any.whl (63kB)\n",
      "Requirement already satisfied: SQLAlchemy>=0.8.0 in c:\\users\\lenovo\\anaconda3\\lib\\site-packages (from flask-sqlalchemy->acitoolkit) (1.2.15)\n",
      "Collecting wtforms (from flask-admin->acitoolkit)\n",
      "  Downloading https://files.pythonhosted.org/packages/9f/c8/dac5dce9908df1d9d48ec0e26e2a250839fa36ea2c602cc4f85ccfeb5c65/WTForms-2.2.1-py2.py3-none-any.whl (166kB)\n",
      "Collecting dominate (from flask-bootstrap->acitoolkit)\n",
      "  Downloading https://files.pythonhosted.org/packages/1d/64/593e829416c951eb35c2246430d59b86f640087e29e71f32632bcde5d0f7/dominate-2.4.0-py2.py3-none-any.whl\n",
      "Collecting visitor (from flask-bootstrap->acitoolkit)\n",
      "  Downloading https://files.pythonhosted.org/packages/d7/58/785fcd6de4210049da5fafe62301b197f044f3835393594be368547142b0/visitor-0.1.3.tar.gz\n",
      "Requirement already satisfied: click>=5.1 in c:\\users\\lenovo\\anaconda3\\lib\\site-packages (from flask->acitoolkit) (7.0)\n",
      "Requirement already satisfied: Jinja2>=2.10 in c:\\users\\lenovo\\anaconda3\\lib\\site-packages (from flask->acitoolkit) (2.10)\n",
      "Requirement already satisfied: Werkzeug>=0.14 in c:\\users\\lenovo\\anaconda3\\lib\\site-packages (from flask->acitoolkit) (0.14.1)\n",
      "Requirement already satisfied: itsdangerous>=0.24 in c:\\users\\lenovo\\anaconda3\\lib\\site-packages (from flask->acitoolkit) (1.1.0)\n",
      "Collecting jsonpickle>=1.0 (from deepdiff->acitoolkit)\n",
      "  Downloading https://files.pythonhosted.org/packages/07/07/c157520a3ebd166c8c24c6ae0ecae7c3968eb4653ff0e5af369bb82f004d/jsonpickle-1.2-py2.py3-none-any.whl\n",
      "Collecting ordered-set>=3.1 (from deepdiff->acitoolkit)\n",
      "  Downloading https://files.pythonhosted.org/packages/a3/b7/d4d69641cbe707a45c23b190f2d717466ba5accc4c70b5f7a8a450387895/ordered-set-3.1.1.tar.gz\n",
      "Collecting smmap2>=2.0.0 (from gitdb2>=2.0.0->gitpython->acitoolkit)\n",
      "  Downloading https://files.pythonhosted.org/packages/55/d2/866d45e3a121ee15a1dc013824d58072fd5c7799c9c34d01378eb262ca8f/smmap2-2.0.5-py2.py3-none-any.whl\n",
      "Requirement already satisfied: MarkupSafe>=0.23 in c:\\users\\lenovo\\anaconda3\\lib\\site-packages (from Jinja2>=2.10->flask->acitoolkit) (1.1.0)\n",
      "Building wheels for collected packages: acitoolkit, flask-admin, flask-bootstrap, py-radix, visitor, ordered-set\n",
      "  Running setup.py bdist_wheel for acitoolkit: started\n",
      "  Running setup.py bdist_wheel for acitoolkit: finished with status 'done'\n",
      "  Stored in directory: C:\\Users\\Lenovo\\AppData\\Local\\pip\\Cache\\wheels\\d7\\d8\\7f\\9ceaaeff53fabb26ec4dfa59585c4da550cbc391b12effa8d6\n",
      "  Running setup.py bdist_wheel for flask-admin: started\n",
      "  Running setup.py bdist_wheel for flask-admin: finished with status 'done'\n",
      "  Stored in directory: C:\\Users\\Lenovo\\AppData\\Local\\pip\\Cache\\wheels\\6f\\ca\\26\\3dcc4b3286ed103ef9328b856221a9881188653c5d38ac73db\n",
      "  Running setup.py bdist_wheel for flask-bootstrap: started\n",
      "  Running setup.py bdist_wheel for flask-bootstrap: finished with status 'done'\n",
      "  Stored in directory: C:\\Users\\Lenovo\\AppData\\Local\\pip\\Cache\\wheels\\e8\\b9\\93\\ef6ac3b8ead2d72cbcc042b9d58b613aaf47e533b9dc5b5999\n",
      "  Running setup.py bdist_wheel for py-radix: started\n",
      "  Running setup.py bdist_wheel for py-radix: finished with status 'error'\n",
      "  Complete output from command C:\\Users\\Lenovo\\Anaconda3\\python.exe -u -c \"import setuptools, tokenize;__file__='C:\\\\Users\\\\Lenovo\\\\AppData\\\\Local\\\\Temp\\\\pip-install-kh9gz1dp\\\\py-radix\\\\setup.py';f=getattr(tokenize, 'open', open)(__file__);code=f.read().replace('\\r\\n', '\\n');f.close();exec(compile(code, __file__, 'exec'))\" bdist_wheel -d C:\\Users\\Lenovo\\AppData\\Local\\Temp\\pip-wheel-n8l11q8n --python-tag cp37:\n",
      "  running bdist_wheel\n",
      "  running build\n",
      "  running build_py\n",
      "  creating build\n",
      "  creating build\\lib.win-amd64-3.7\n",
      "  creating build\\lib.win-amd64-3.7\\radix\n",
      "  copying radix\\radix.py -> build\\lib.win-amd64-3.7\\radix\n",
      "  copying radix\\__init__.py -> build\\lib.win-amd64-3.7\\radix\n",
      "  running build_ext\n",
      "  building 'radix._radix' extension\n",
      "  error: Microsoft Visual C++ 14.0 is required. Get it with \"Microsoft Visual C++ Build Tools\": https://visualstudio.microsoft.com/downloads/\n",
      "  \n",
      "  ----------------------------------------\n",
      "  Running setup.py clean for py-radix\n",
      "  Running setup.py bdist_wheel for visitor: started\n",
      "  Running setup.py bdist_wheel for visitor: finished with status 'done'\n",
      "  Stored in directory: C:\\Users\\Lenovo\\AppData\\Local\\pip\\Cache\\wheels\\68\\b0\\a2\\cc8c7cf94ca3d1088a7d2e27936c1e0da170e05f560973e8dd\n",
      "  Running setup.py bdist_wheel for ordered-set: started\n",
      "  Running setup.py bdist_wheel for ordered-set: finished with status 'done'\n",
      "  Stored in directory: C:\\Users\\Lenovo\\AppData\\Local\\pip\\Cache\\wheels\\dd\\70\\f1\\0a4953bd6d06e7dbffe8ef0197b558eaecb21fa6b043b50d73\n",
      "Successfully built acitoolkit flask-admin flask-bootstrap visitor ordered-set\n",
      "Failed to build py-radix\n",
      "Installing collected packages: websocket-client, smmap2, gitdb2, gitpython, flask-httpauth, flask-sqlalchemy, wtforms, flask-admin, dominate, visitor, flask-bootstrap, flask-wtf, pymysql, py-radix, graphviz, ipaddress, jsonpickle, ordered-set, deepdiff, acitoolkit\n",
      "  Running setup.py install for py-radix: started\n",
      "    Running setup.py install for py-radix: finished with status 'error'\n",
      "    Complete output from command C:\\Users\\Lenovo\\Anaconda3\\python.exe -u -c \"import setuptools, tokenize;__file__='C:\\\\Users\\\\Lenovo\\\\AppData\\\\Local\\\\Temp\\\\pip-install-kh9gz1dp\\\\py-radix\\\\setup.py';f=getattr(tokenize, 'open', open)(__file__);code=f.read().replace('\\r\\n', '\\n');f.close();exec(compile(code, __file__, 'exec'))\" install --record C:\\Users\\Lenovo\\AppData\\Local\\Temp\\pip-record-zmlibq1p\\install-record.txt --single-version-externally-managed --compile:\n",
      "    running install\n",
      "    running build\n",
      "    running build_py\n",
      "    creating build\n",
      "    creating build\\lib.win-amd64-3.7\n",
      "    creating build\\lib.win-amd64-3.7\\radix\n",
      "    copying radix\\radix.py -> build\\lib.win-amd64-3.7\\radix\n",
      "    copying radix\\__init__.py -> build\\lib.win-amd64-3.7\\radix\n",
      "    running build_ext\n",
      "    building 'radix._radix' extension\n",
      "    error: Microsoft Visual C++ 14.0 is required. Get it with \"Microsoft Visual C++ Build Tools\": https://visualstudio.microsoft.com/downloads/\n",
      "    \n",
      "    ----------------------------------------\n"
     ]
    },
    {
     "name": "stderr",
     "output_type": "stream",
     "text": [
      "  Failed building wheel for py-radix\n",
      "Command \"C:\\Users\\Lenovo\\Anaconda3\\python.exe -u -c \"import setuptools, tokenize;__file__='C:\\\\Users\\\\Lenovo\\\\AppData\\\\Local\\\\Temp\\\\pip-install-kh9gz1dp\\\\py-radix\\\\setup.py';f=getattr(tokenize, 'open', open)(__file__);code=f.read().replace('\\r\\n', '\\n');f.close();exec(compile(code, __file__, 'exec'))\" install --record C:\\Users\\Lenovo\\AppData\\Local\\Temp\\pip-record-zmlibq1p\\install-record.txt --single-version-externally-managed --compile\" failed with error code 1 in C:\\Users\\Lenovo\\AppData\\Local\\Temp\\pip-install-kh9gz1dp\\py-radix\\\n"
     ]
    }
   ],
   "source": [
    "!pip install acitoolkit"
   ]
  },
  {
   "cell_type": "code",
   "execution_count": 3,
   "metadata": {},
   "outputs": [],
   "source": [
    "logger = logging.getLogger(\"New_Tenant\")\n",
    "logger.setLevel(logging.INFO)\n",
    "CONFFILE = 'conf.json'\n",
    "DESCRFILE = 'descr.json'"
   ]
  },
  {
   "cell_type": "code",
   "execution_count": 4,
   "metadata": {},
   "outputs": [
    {
     "data": {
      "text/plain": [
       "<Logger New_Tenant (INFO)>"
      ]
     },
     "execution_count": 4,
     "metadata": {},
     "output_type": "execute_result"
    }
   ],
   "source": [
    "logger"
   ]
  },
  {
   "cell_type": "code",
   "execution_count": null,
   "metadata": {},
   "outputs": [],
   "source": []
  }
 ],
 "metadata": {
  "kernelspec": {
   "display_name": "Python 3",
   "language": "python",
   "name": "python3"
  },
  "language_info": {
   "codemirror_mode": {
    "name": "ipython",
    "version": 3
   },
   "file_extension": ".py",
   "mimetype": "text/x-python",
   "name": "python",
   "nbconvert_exporter": "python",
   "pygments_lexer": "ipython3",
   "version": "3.7.1"
  }
 },
 "nbformat": 4,
 "nbformat_minor": 2
}
