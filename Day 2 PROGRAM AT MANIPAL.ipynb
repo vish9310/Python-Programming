{
 "cells": [
  {
   "cell_type": "markdown",
   "metadata": {},
   "source": [
    "# Simple example of user-defined function"
   ]
  },
  {
   "cell_type": "code",
   "execution_count": 6,
   "metadata": {},
   "outputs": [
    {
     "name": "stdout",
     "output_type": "stream",
     "text": [
      "Inside Function\n",
      "Function over\n",
      "Example of simple function\n",
      "Example over\n"
     ]
    },
    {
     "data": {
      "text/plain": [
       "function"
      ]
     },
     "execution_count": 6,
     "metadata": {},
     "output_type": "execute_result"
    }
   ],
   "source": [
    "def myfun():            #function defination\n",
    "    print('Inside Function')\n",
    "    print('Function over')\n",
    "    print('Example of simple function')\n",
    "myfun()        #function call\n",
    "print('Example over')\n",
    "type(myfun)"
   ]
  },
  {
   "cell_type": "code",
   "execution_count": 7,
   "metadata": {},
   "outputs": [
    {
     "data": {
      "text/plain": [
       "function"
      ]
     },
     "execution_count": 7,
     "metadata": {},
     "output_type": "execute_result"
    }
   ],
   "source": [
    "type(myfun)"
   ]
  },
  {
   "cell_type": "code",
   "execution_count": 9,
   "metadata": {},
   "outputs": [
    {
     "name": "stdout",
     "output_type": "stream",
     "text": [
      "<function myfun at 0x0000024450C60BF8>\n"
     ]
    }
   ],
   "source": [
    "print(myfun)"
   ]
  },
  {
   "cell_type": "markdown",
   "metadata": {},
   "source": [
    "# function Argument"
   ]
  },
  {
   "cell_type": "code",
   "execution_count": 13,
   "metadata": {},
   "outputs": [
    {
     "name": "stdout",
     "output_type": "stream",
     "text": [
      "Example of function with arguments\n",
      "Inside test()\n",
      "Argument is  hello\n",
      "type of argumnet is:  <class 'str'>\n",
      "Inside test()\n",
      "Argument is  20\n",
      "type of argumnet is:  <class 'int'>\n",
      "Over!!\n"
     ]
    }
   ],
   "source": [
    "def test(var):\n",
    "    print(\"Inside test()\")\n",
    "    print(\"Argument is \",var)\n",
    "    print(\"type of argumnet is: \", type(var))\n",
    "\n",
    "print(\"Example of function with arguments\")\n",
    "x=\"hello\"\n",
    "test(x)     #call test() with x as argument\n",
    "y=20\n",
    "test(y)     #call test() with y as argument\n",
    "print(\"Over!!\")"
   ]
  },
  {
   "cell_type": "markdown",
   "metadata": {},
   "source": [
    "# funtion with two Argument"
   ]
  },
  {
   "cell_type": "code",
   "execution_count": 16,
   "metadata": {},
   "outputs": [
    {
     "name": "stdout",
     "output_type": "stream",
     "text": [
      "Example of function with arguments\n",
      "Inside test()\n",
      "Argument1 is  10 Type is <class 'int'>\n",
      "Argument2 is  20 Type is <class 'int'>\n",
      "Inside test()\n",
      "Argument1 is  5 Type is <class 'int'>\n",
      "Argument2 is  3.5 Type is <class 'float'>\n",
      "Inside test()\n",
      "Argument1 is  3.5 Type is <class 'float'>\n",
      "Argument2 is  hello Type is <class 'str'>\n",
      "Inside test()\n",
      "Argument1 is  -3 Type is <class 'int'>\n",
      "Argument2 is  hey Type is <class 'str'>\n",
      "Inside test()\n",
      "Argument1 is  0 Type is <class 'int'>\n",
      "Argument2 is  True Type is <class 'bool'>\n",
      "Inside test()\n",
      "Argument1 is  False Type is <class 'bool'>\n",
      "Argument2 is  world Type is <class 'str'>\n",
      "over!!\n"
     ]
    }
   ],
   "source": [
    "def test(a, b):\n",
    "    print(\"Inside test()\")\n",
    "    print(\"Argument1 is \", a, \"Type is\" , type(a))\n",
    "    print(\"Argument2 is \", b, \"Type is\" , type(b))\n",
    "    \n",
    "print(\"Example of function with arguments\")\n",
    "test(10,20)\n",
    "test(5,3.5)\n",
    "test(3.5,'hello')\n",
    "test(-3,'hey')\n",
    "test(0,True)\n",
    "test(False,'world')\n",
    "\n",
    "print('over!!')\n",
    "    "
   ]
  },
  {
   "cell_type": "markdown",
   "metadata": {},
   "source": [
    "   # Q=Read two numbers as an input, write function to find sum and return the sum\n"
   ]
  },
  {
   "cell_type": "code",
   "execution_count": 21,
   "metadata": {},
   "outputs": [
    {
     "name": "stdout",
     "output_type": "stream",
     "text": [
      "enter first number02\n",
      "enter second number12\n",
      "sum is 14\n"
     ]
    },
    {
     "data": {
      "text/plain": [
       "14"
      ]
     },
     "execution_count": 21,
     "metadata": {},
     "output_type": "execute_result"
    }
   ],
   "source": [
    "def sum(a,b):\n",
    "    c=a+b\n",
    "    print('sum is' ,c)\n",
    "    return c\n",
    "x=int(input('enter first number'))\n",
    "y=int(input('enter second number'))\n",
    "sum (x,y)\n"
   ]
  },
  {
   "cell_type": "markdown",
   "metadata": {},
   "source": [
    "# Multiplying Arguments"
   ]
  },
  {
   "cell_type": "code",
   "execution_count": 29,
   "metadata": {},
   "outputs": [
    {
     "name": "stdout",
     "output_type": "stream",
     "text": [
      "Example of funtion with arguments\n",
      "Inside test()\n",
      "Argument is hellohellohellohello\n",
      "Inside test()\n",
      "Argument is 60\n",
      "Over!!\n"
     ]
    }
   ],
   "source": [
    "def test(var):\n",
    "    print(\"Inside test()\")\n",
    "    print(\"Argument is\",var)\n",
    "    \n",
    "print(\"Example of funtion with arguments\")\n",
    "x=\"hello\"\n",
    "test(x*4)\n",
    "y=20\n",
    "test(y*3)\n",
    "print(\"Over!!\")\n",
    "\n",
    "    "
   ]
  },
  {
   "cell_type": "markdown",
   "metadata": {},
   "source": [
    "# Example of For-loop"
   ]
  },
  {
   "cell_type": "code",
   "execution_count": 7,
   "metadata": {},
   "outputs": [
    {
     "name": "stdout",
     "output_type": "stream",
     "text": [
      "10 "
     ]
    }
   ],
   "source": [
    "for i in range(10,20,15):\n",
    "    print(i, end=' ')"
   ]
  },
  {
   "cell_type": "code",
   "execution_count": 8,
   "metadata": {},
   "outputs": [
    {
     "name": "stdout",
     "output_type": "stream",
     "text": [
      "10 8 6 4 2 "
     ]
    }
   ],
   "source": [
    "for i in range(10,0, -2):\n",
    "    print(i, end=' ')\n",
    "    "
   ]
  },
  {
   "cell_type": "code",
   "execution_count": 11,
   "metadata": {},
   "outputs": [
    {
     "name": "stdout",
     "output_type": "stream",
     "text": [
      "15 470 "
     ]
    }
   ],
   "source": [
    "for i in  range (15,500,455):\n",
    "    print(i, end=\" \")"
   ]
  },
  {
   "cell_type": "markdown",
   "metadata": {},
   "source": [
    "# Example of while loop"
   ]
  },
  {
   "cell_type": "code",
   "execution_count": 16,
   "metadata": {},
   "outputs": [
    {
     "name": "stdout",
     "output_type": "stream",
     "text": [
      "0 1 2 3 4 5 6 7 8 9 "
     ]
    }
   ],
   "source": [
    "x=0\n",
    "while x<10:\n",
    "    print(x, end=\" \")\n",
    "    x=x+1"
   ]
  },
  {
   "cell_type": "markdown",
   "metadata": {},
   "source": [
    "# STRINGS"
   ]
  },
  {
   "cell_type": "code",
   "execution_count": 23,
   "metadata": {},
   "outputs": [
    {
     "name": "stdout",
     "output_type": "stream",
     "text": [
      "l\n",
      "h\n"
     ]
    }
   ],
   "source": [
    "word1=\"Hello\"\n",
    "word2=\"hi\"\n",
    "x=word1[2]\n",
    "print(x)\n",
    "y=word2[0]\n",
    "print(y)\n"
   ]
  },
  {
   "cell_type": "code",
   "execution_count": 31,
   "metadata": {},
   "outputs": [
    {
     "name": "stdout",
     "output_type": "stream",
     "text": [
      "True\n",
      "True\n",
      "e\n"
     ]
    }
   ],
   "source": [
    "s1=\"Helloeveryone\"\n",
    "s2=\"Hi\"\n",
    "s3=\"NY\"\n",
    "\n",
    "print(s1<s2)\n",
    "print(s2<s3)\n",
    "print(s1[-8])       #negative indexing"
   ]
  },
  {
   "cell_type": "code",
   "execution_count": 32,
   "metadata": {},
   "outputs": [],
   "source": [
    "#Using Loop to print all characters of a string"
   ]
  },
  {
   "cell_type": "code",
   "execution_count": 45,
   "metadata": {},
   "outputs": [
    {
     "name": "stdout",
     "output_type": "stream",
     "text": [
      "hell\n",
      " Over!!\n"
     ]
    }
   ],
   "source": [
    "s1=\"hello world\"\n",
    "for i in s1:\n",
    "    if i=='o':\n",
    "        break\n",
    "    print(i, end='')\n",
    "    \n",
    "print('\\n Over!!')"
   ]
  },
  {
   "cell_type": "markdown",
   "metadata": {},
   "source": [
    "# Slicing"
   ]
  },
  {
   "cell_type": "code",
   "execution_count": 46,
   "metadata": {},
   "outputs": [],
   "source": [
    "#Example"
   ]
  },
  {
   "cell_type": "code",
   "execution_count": 67,
   "metadata": {},
   "outputs": [
    {
     "name": "stdout",
     "output_type": "stream",
     "text": [
      "st[0:5]is Hello\n"
     ]
    }
   ],
   "source": [
    "st=\"Hello World\"\n",
    "print(\"st[0:5]is\", st[0:5])"
   ]
  },
  {
   "cell_type": "code",
   "execution_count": 66,
   "metadata": {},
   "outputs": [
    {
     "name": "stdout",
     "output_type": "stream",
     "text": [
      "st[:4]is Hell\n"
     ]
    }
   ],
   "source": [
    "print(\"st[:4]is\", st[:4])"
   ]
  },
  {
   "cell_type": "code",
   "execution_count": 68,
   "metadata": {},
   "outputs": [
    {
     "name": "stdout",
     "output_type": "stream",
     "text": [
      "st[3:8]is lo Wo\n"
     ]
    }
   ],
   "source": [
    "print(\"st[3:8]is\", st[3:8])"
   ]
  },
  {
   "cell_type": "code",
   "execution_count": 69,
   "metadata": {},
   "outputs": [
    {
     "name": "stdout",
     "output_type": "stream",
     "text": [
      "st[7:]is orld\n"
     ]
    }
   ],
   "source": [
    "print(\"st[7:]is\", st[7:])"
   ]
  },
  {
   "cell_type": "code",
   "execution_count": 72,
   "metadata": {},
   "outputs": [
    {
     "name": "stdout",
     "output_type": "stream",
     "text": [
      "st[4:4]is \n"
     ]
    }
   ],
   "source": [
    "print(\"st[4:4]is\", st[4:4])"
   ]
  },
  {
   "cell_type": "code",
   "execution_count": 73,
   "metadata": {},
   "outputs": [],
   "source": [
    "#examples"
   ]
  },
  {
   "cell_type": "code",
   "execution_count": 75,
   "metadata": {},
   "outputs": [
    {
     "name": "stdout",
     "output_type": "stream",
     "text": [
      "st[0:5:1]is hello\n"
     ]
    }
   ],
   "source": [
    "st=\"hello world\"\n",
    "print(\"st[0:5:1]is\" , st[0:5:1])"
   ]
  },
  {
   "cell_type": "code",
   "execution_count": 77,
   "metadata": {},
   "outputs": [
    {
     "name": "stdout",
     "output_type": "stream",
     "text": [
      "st[::2]is hlowrd\n"
     ]
    }
   ],
   "source": [
    "print(\"st[::2]is\" , st[::2])"
   ]
  },
  {
   "cell_type": "code",
   "execution_count": 79,
   "metadata": {},
   "outputs": [
    {
     "name": "stdout",
     "output_type": "stream",
     "text": [
      "st[3:8:2]is l o\n"
     ]
    }
   ],
   "source": [
    "print(\"st[3:8:2]is\" , st[3:8:2])"
   ]
  },
  {
   "cell_type": "code",
   "execution_count": 81,
   "metadata": {},
   "outputs": [
    {
     "name": "stdout",
     "output_type": "stream",
     "text": [
      "st[1:8:3]is eoo\n"
     ]
    }
   ],
   "source": [
    "print(\"st[1:8:3]is\" , st[1:8:3])"
   ]
  },
  {
   "cell_type": "code",
   "execution_count": 83,
   "metadata": {},
   "outputs": [
    {
     "name": "stdout",
     "output_type": "stream",
     "text": [
      "st[-4;-1]is orl\n"
     ]
    }
   ],
   "source": [
    "print(\"st[-4;-1]is\" , st[-4:-1])"
   ]
  },
  {
   "cell_type": "code",
   "execution_count": 85,
   "metadata": {},
   "outputs": [
    {
     "name": "stdout",
     "output_type": "stream",
     "text": [
      "st[-1:]is d\n"
     ]
    }
   ],
   "source": [
    "print(\"st[-1:]is\" , st[-1:])"
   ]
  },
  {
   "cell_type": "code",
   "execution_count": 90,
   "metadata": {},
   "outputs": [
    {
     "name": "stdout",
     "output_type": "stream",
     "text": [
      "st[::]is hello world\n"
     ]
    }
   ],
   "source": [
    "print(\"st[::]is\" , st[::])"
   ]
  },
  {
   "cell_type": "code",
   "execution_count": 92,
   "metadata": {},
   "outputs": [
    {
     "name": "stdout",
     "output_type": "stream",
     "text": [
      "st[::-1]is dlrow olleh\n"
     ]
    }
   ],
   "source": [
    "print(\"st[::-1]is\" , st[::-1])"
   ]
  },
  {
   "cell_type": "code",
   "execution_count": 95,
   "metadata": {},
   "outputs": [
    {
     "name": "stdout",
     "output_type": "stream",
     "text": [
      "st[::-2]is drwolh\n"
     ]
    }
   ],
   "source": [
    "print(\"st[::-2]is\" , st[::-2])"
   ]
  },
  {
   "cell_type": "markdown",
   "metadata": {},
   "source": [
    "# Changing Strings"
   ]
  },
  {
   "cell_type": "code",
   "execution_count": 97,
   "metadata": {},
   "outputs": [
    {
     "ename": "TypeError",
     "evalue": "'str' object does not support item assignment",
     "output_type": "error",
     "traceback": [
      "\u001b[1;31m---------------------------------------------------------------------------\u001b[0m",
      "\u001b[1;31mTypeError\u001b[0m                                 Traceback (most recent call last)",
      "\u001b[1;32m<ipython-input-97-e9c4fdd1dce0>\u001b[0m in \u001b[0;36m<module>\u001b[1;34m\u001b[0m\n\u001b[0;32m      1\u001b[0m \u001b[0mst\u001b[0m\u001b[1;33m=\u001b[0m\u001b[1;34m\"hello\"\u001b[0m\u001b[1;33m\u001b[0m\u001b[1;33m\u001b[0m\u001b[0m\n\u001b[1;32m----> 2\u001b[1;33m \u001b[0mst\u001b[0m\u001b[1;33m[\u001b[0m\u001b[1;36m1\u001b[0m\u001b[1;33m]\u001b[0m\u001b[1;33m=\u001b[0m\u001b[1;34m'x'\u001b[0m    \u001b[1;31m#strings are immutable, and assignment generates error\u001b[0m\u001b[1;33m\u001b[0m\u001b[1;33m\u001b[0m\u001b[0m\n\u001b[0m",
      "\u001b[1;31mTypeError\u001b[0m: 'str' object does not support item assignment"
     ]
    }
   ],
   "source": [
    "st=\"hello\"\n",
    "st[1]='x'    #strings are immutable, and assignment generates error"
   ]
  },
  {
   "cell_type": "code",
   "execution_count": 100,
   "metadata": {},
   "outputs": [
    {
     "name": "stdout",
     "output_type": "stream",
     "text": [
      "hyllo\n"
     ]
    }
   ],
   "source": [
    "st1=st[0]+'y'+st[2:]            #with slicing,you can create modified string\n",
    "print(st1)"
   ]
  },
  {
   "cell_type": "code",
   "execution_count": 101,
   "metadata": {},
   "outputs": [],
   "source": [
    "#Q=Write a program to read a sting and a character.Design a function which counts the occurence of that character in a string and returs the count"
   ]
  },
  {
   "cell_type": "raw",
   "metadata": {},
   "source": []
  },
  {
   "cell_type": "code",
   "execution_count": 1,
   "metadata": {},
   "outputs": [
    {
     "name": "stdout",
     "output_type": "stream",
     "text": [
      "enter some string:hello how are oyu\n",
      "h=2Times\n",
      "e=2Times\n",
      "l=2Times\n",
      "o=3Times\n",
      " =3Times\n",
      "w=1Times\n",
      "a=1Times\n",
      "r=1Times\n",
      "y=1Times\n",
      "u=1Times\n"
     ]
    }
   ],
   "source": [
    "s=input(\"enter some string:\")\n",
    "d={}\n",
    "for x in s:\n",
    "    if x in d.keys():\n",
    "        d[x]=d[x]+1\n",
    "    else:\n",
    "        d[x]=1\n",
    "for k,v in d.items():\n",
    "    print(\"{}={}Times\".format(k,v))"
   ]
  },
  {
   "cell_type": "markdown",
   "metadata": {},
   "source": [
    "# Capitalize(s)"
   ]
  },
  {
   "cell_type": "code",
   "execution_count": 123,
   "metadata": {},
   "outputs": [
    {
     "data": {
      "text/plain": [
       "'Vishal'"
      ]
     },
     "execution_count": 123,
     "metadata": {},
     "output_type": "execute_result"
    }
   ],
   "source": [
    "str.capitalize('vishal')    #makes first character os s as uppercase,and the remainig characters as lowercase."
   ]
  },
  {
   "cell_type": "code",
   "execution_count": 129,
   "metadata": {},
   "outputs": [
    {
     "name": "stdout",
     "output_type": "stream",
     "text": [
      "hello\n"
     ]
    }
   ],
   "source": [
    "st='HELLO'                 #makes string type in lower case\n",
    "st1=st.lower()\n",
    "print(st1)"
   ]
  },
  {
   "cell_type": "code",
   "execution_count": 132,
   "metadata": {},
   "outputs": [
    {
     "name": "stdout",
     "output_type": "stream",
     "text": [
      "HELLO\n"
     ]
    }
   ],
   "source": [
    "st='hello'                     #makes string type in upper case\n",
    "st1=st.upper()\n",
    "print(st1)"
   ]
  },
  {
   "cell_type": "markdown",
   "metadata": {},
   "source": [
    "# find(s1)"
   ]
  },
  {
   "cell_type": "code",
   "execution_count": 135,
   "metadata": {},
   "outputs": [
    {
     "name": "stdout",
     "output_type": "stream",
     "text": [
      "2\n"
     ]
    }
   ],
   "source": [
    "st='hello'\n",
    "i=st.find('l')\n",
    "print(i)"
   ]
  },
  {
   "cell_type": "code",
   "execution_count": 139,
   "metadata": {},
   "outputs": [
    {
     "name": "stdout",
     "output_type": "stream",
     "text": [
      "-1\n"
     ]
    }
   ],
   "source": [
    "st='hello how are you'\n",
    "i=st.find('you,are')\n",
    "print(i)"
   ]
  },
  {
   "cell_type": "code",
   "execution_count": 141,
   "metadata": {},
   "outputs": [
    {
     "name": "stdout",
     "output_type": "stream",
     "text": [
      "-1\n"
     ]
    }
   ],
   "source": [
    "st='hello how are you'\n",
    "x=s.find('o',5,8)\n",
    "print(x)"
   ]
  },
  {
   "cell_type": "code",
   "execution_count": 145,
   "metadata": {},
   "outputs": [
    {
     "name": "stdout",
     "output_type": "stream",
     "text": [
      "-1\n"
     ]
    }
   ],
   "source": [
    "st=\"hello how are you?\"\n",
    "x=s.find('o',8,len(s))\n",
    "print(x)"
   ]
  },
  {
   "cell_type": "markdown",
   "metadata": {},
   "source": [
    "# Strip"
   ]
  },
  {
   "cell_type": "code",
   "execution_count": 148,
   "metadata": {},
   "outputs": [
    {
     "name": "stdout",
     "output_type": "stream",
     "text": [
      "hello world\n",
      "      hello world     \n"
     ]
    }
   ],
   "source": [
    "s=\"      hello world     \"\n",
    "s1=s.strip()\n",
    "print(s1)\n",
    "print(s)"
   ]
  },
  {
   "cell_type": "code",
   "execution_count": 154,
   "metadata": {},
   "outputs": [
    {
     "name": "stdout",
     "output_type": "stream",
     "text": [
      " hello world $$$ \n",
      "$$$$$$$$$$ hello world $$$ \n"
     ]
    }
   ],
   "source": [
    "s=\"$$$$$$$$$$ hello world $$$ \"\n",
    "s1=s.strip('$')\n",
    "print(s1)\n",
    "print(s)"
   ]
  },
  {
   "cell_type": "code",
   "execution_count": 157,
   "metadata": {},
   "outputs": [
    {
     "name": "stdout",
     "output_type": "stream",
     "text": [
      "$x$x$x$x$x$x$x hello $ world $x$x$x$x\n"
     ]
    }
   ],
   "source": [
    "s=\"$x$x$x$x$x$x$x hello $ world $x$x$x$x\"\n",
    "s1=s.strip('s')\n",
    "print(s1)\n"
   ]
  },
  {
   "cell_type": "code",
   "execution_count": 160,
   "metadata": {},
   "outputs": [
    {
     "name": "stdout",
     "output_type": "stream",
     "text": [
      "newline\n"
     ]
    }
   ],
   "source": [
    "print('new''line')"
   ]
  },
  {
   "cell_type": "markdown",
   "metadata": {},
   "source": [
    "# Startswith(Prefix(,start[end]))"
   ]
  },
  {
   "cell_type": "code",
   "execution_count": 162,
   "metadata": {},
   "outputs": [
    {
     "data": {
      "text/plain": [
       "True"
      ]
     },
     "execution_count": 162,
     "metadata": {},
     "output_type": "execute_result"
    }
   ],
   "source": [
    "st='hello world'\n",
    "st.startswith(\"he\")\n",
    "st.startswith(\"w\",6)\n"
   ]
  },
  {
   "cell_type": "code",
   "execution_count": 166,
   "metadata": {},
   "outputs": [
    {
     "data": {
      "text/plain": [
       "True"
      ]
     },
     "execution_count": 166,
     "metadata": {},
     "output_type": "execute_result"
    }
   ],
   "source": [
    "st=\"xyz abc pqr ab mn gh\"\n",
    "st.startswith(\"pqr ab mn\",8,12)\n",
    "st.startswith(\"pqr ab mn\",8,18)"
   ]
  },
  {
   "cell_type": "code",
   "execution_count": 168,
   "metadata": {},
   "outputs": [
    {
     "data": {
      "text/plain": [
       "False"
      ]
     },
     "execution_count": 168,
     "metadata": {},
     "output_type": "execute_result"
    }
   ],
   "source": [
    "st=\"Hello\"\n",
    "st.startswith(\"he\")"
   ]
  },
  {
   "cell_type": "code",
   "execution_count": 170,
   "metadata": {},
   "outputs": [
    {
     "data": {
      "text/plain": [
       "False"
      ]
     },
     "execution_count": 170,
     "metadata": {},
     "output_type": "execute_result"
    }
   ],
   "source": [
    "st.lower().startswith(\"He\")"
   ]
  },
  {
   "cell_type": "markdown",
   "metadata": {},
   "source": [
    "# S.count(s1[, start[,end]])"
   ]
  },
  {
   "cell_type": "code",
   "execution_count": 175,
   "metadata": {},
   "outputs": [
    {
     "data": {
      "text/plain": [
       "1"
      ]
     },
     "execution_count": 175,
     "metadata": {},
     "output_type": "execute_result"
    }
   ],
   "source": [
    "st=\"hello how are you?how about you?\"\n",
    "st.count('w',3,15)"
   ]
  },
  {
   "cell_type": "code",
   "execution_count": 191,
   "metadata": {},
   "outputs": [
    {
     "name": "stdout",
     "output_type": "stream",
     "text": [
      "iee.org\n"
     ]
    }
   ],
   "source": [
    "string=\"from chetanahegde@iee.org Wed\" #only for extracting domain id\n",
    "\n",
    "x=string.find('@')\n",
    "y=string.find(' ',x)\n",
    "s=string[x+1:y]\n",
    "newstr=string[string.find(\"@\")+1:string.find(\" \",string.find('@'))]\n",
    "print(s)\n"
   ]
  },
  {
   "cell_type": "code",
   "execution_count": 1,
   "metadata": {},
   "outputs": [
    {
     "name": "stdout",
     "output_type": "stream",
     "text": [
      "Enter the Stringhello how are you hello \n"
     ]
    },
    {
     "ename": "AttributeError",
     "evalue": "'str' object has no attribute 'endwith'",
     "output_type": "error",
     "traceback": [
      "\u001b[1;31m---------------------------------------------------------------------------\u001b[0m",
      "\u001b[1;31mAttributeError\u001b[0m                            Traceback (most recent call last)",
      "\u001b[1;32m<ipython-input-1-1fd88dcb8b4b>\u001b[0m in \u001b[0;36m<module>\u001b[1;34m\u001b[0m\n\u001b[0;32m      2\u001b[0m \u001b[1;32mif\u001b[0m \u001b[0mlen\u001b[0m\u001b[1;33m(\u001b[0m\u001b[0mstring\u001b[0m\u001b[1;33m)\u001b[0m\u001b[1;33m<\u001b[0m\u001b[1;36m3\u001b[0m\u001b[1;33m:\u001b[0m\u001b[1;33m\u001b[0m\u001b[1;33m\u001b[0m\u001b[0m\n\u001b[0;32m      3\u001b[0m     \u001b[0mvalue\u001b[0m\u001b[1;33m=\u001b[0m\u001b[0mstring\u001b[0m\u001b[1;33m\u001b[0m\u001b[1;33m\u001b[0m\u001b[0m\n\u001b[1;32m----> 4\u001b[1;33m \u001b[1;32melif\u001b[0m \u001b[0mlen\u001b[0m\u001b[1;33m(\u001b[0m\u001b[0mstring\u001b[0m\u001b[1;33m)\u001b[0m\u001b[1;33m>=\u001b[0m\u001b[1;36m3\u001b[0m \u001b[1;32mand\u001b[0m \u001b[0mstring\u001b[0m\u001b[1;33m.\u001b[0m\u001b[0mendwith\u001b[0m\u001b[1;33m(\u001b[0m\u001b[1;34m\"ing\"\u001b[0m\u001b[1;33m)\u001b[0m\u001b[1;33m:\u001b[0m\u001b[1;33m\u001b[0m\u001b[1;33m\u001b[0m\u001b[0m\n\u001b[0m\u001b[0;32m      5\u001b[0m     \u001b[0mvalue\u001b[0m\u001b[1;33m=\u001b[0m\u001b[0mstring\u001b[0m\u001b[1;33m.\u001b[0m\u001b[0mreplace\u001b[0m\u001b[1;33m(\u001b[0m\u001b[1;34m\"ing\"\u001b[0m\u001b[1;33m,\u001b[0m\u001b[1;34m\"ly\"\u001b[0m\u001b[1;33m)\u001b[0m\u001b[1;33m\u001b[0m\u001b[1;33m\u001b[0m\u001b[0m\n\u001b[0;32m      6\u001b[0m \u001b[1;32melif\u001b[0m \u001b[0mlen\u001b[0m\u001b[1;33m(\u001b[0m\u001b[0mstring\u001b[0m\u001b[1;33m)\u001b[0m\u001b[1;33m>=\u001b[0m\u001b[1;36m3\u001b[0m\u001b[1;33m:\u001b[0m\u001b[1;33m\u001b[0m\u001b[1;33m\u001b[0m\u001b[0m\n",
      "\u001b[1;31mAttributeError\u001b[0m: 'str' object has no attribute 'endwith'"
     ]
    }
   ],
   "source": [
    "string=input('Enter the String')\n",
    "if len(string)<3:\n",
    "    value=string\n",
    "elif len(string)>=3 and string.endwith(\"ing\"):\n",
    "    value=string.replace(\"ing\",\"ly\")\n",
    "elif len(string)>=3:\n",
    "    value=string+\"ing\"\n",
    "    \n",
    "print(value)"
   ]
  },
  {
   "cell_type": "code",
   "execution_count": 1,
   "metadata": {},
   "outputs": [
    {
     "name": "stdout",
     "output_type": "stream",
     "text": [
      "enter a string\n"
     ]
    },
    {
     "ename": "AttributeError",
     "evalue": "'str' object has no attribute 'splt'",
     "output_type": "error",
     "traceback": [
      "\u001b[1;31m---------------------------------------------------------------------------\u001b[0m",
      "\u001b[1;31mAttributeError\u001b[0m                            Traceback (most recent call last)",
      "\u001b[1;32m<ipython-input-1-5731579b2503>\u001b[0m in \u001b[0;36m<module>\u001b[1;34m\u001b[0m\n\u001b[0;32m      1\u001b[0m \u001b[0ms\u001b[0m\u001b[1;33m=\u001b[0m\u001b[0minput\u001b[0m\u001b[1;33m(\u001b[0m\u001b[1;34m'enter a string'\u001b[0m\u001b[1;33m)\u001b[0m\u001b[1;33m\u001b[0m\u001b[1;33m\u001b[0m\u001b[0m\n\u001b[1;32m----> 2\u001b[1;33m \u001b[0ms1\u001b[0m\u001b[1;33m=\u001b[0m\u001b[0ms\u001b[0m\u001b[1;33m.\u001b[0m\u001b[0msplt\u001b[0m\u001b[1;33m(\u001b[0m\u001b[1;34m\" \"\u001b[0m\u001b[1;33m,\u001b[0m\u001b[1;33m(\u001b[0m\u001b[1;34m\"\"\u001b[0m\u001b[1;33m)\u001b[0m\u001b[1;33m)\u001b[0m\u001b[1;33m\u001b[0m\u001b[1;33m\u001b[0m\u001b[0m\n\u001b[0m\u001b[0;32m      3\u001b[0m \u001b[0mprints1\u001b[0m\u001b[1;33m\u001b[0m\u001b[1;33m\u001b[0m\u001b[0m\n",
      "\u001b[1;31mAttributeError\u001b[0m: 'str' object has no attribute 'splt'"
     ]
    }
   ],
   "source": [
    "s=input('enter a string')\n",
    "s1=s.splt(\" \",(\"\"))\n",
    "prints1"
   ]
  },
  {
   "cell_type": "code",
   "execution_count": null,
   "metadata": {},
   "outputs": [],
   "source": [
    "\n"
   ]
  },
  {
   "cell_type": "code",
   "execution_count": null,
   "metadata": {},
   "outputs": [],
   "source": []
  }
 ],
 "metadata": {
  "kernelspec": {
   "display_name": "Python 3",
   "language": "python",
   "name": "python3"
  },
  "language_info": {
   "codemirror_mode": {
    "name": "ipython",
    "version": 3
   },
   "file_extension": ".py",
   "mimetype": "text/x-python",
   "name": "python",
   "nbconvert_exporter": "python",
   "pygments_lexer": "ipython3",
   "version": "3.7.1"
  }
 },
 "nbformat": 4,
 "nbformat_minor": 2
}
